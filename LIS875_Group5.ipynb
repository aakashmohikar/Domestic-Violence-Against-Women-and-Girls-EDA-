{
  "cells": [
    {
      "cell_type": "markdown",
      "metadata": {
        "id": "view-in-github",
        "colab_type": "text"
      },
      "source": [
        "<a href=\"https://colab.research.google.com/github/aakashmohikar/Domestic-Violence-Against-Women-and-Girls-EDA-/blob/main/LIS875_Group5.ipynb\" target=\"_parent\"><img src=\"https://colab.research.google.com/assets/colab-badge.svg\" alt=\"Open In Colab\"/></a>"
      ]
    },
    {
      "cell_type": "code",
      "execution_count": 1,
      "metadata": {
        "id": "x93oIu2yE7Yp"
      },
      "outputs": [],
      "source": [
        "import pandas as pd \n",
        "import matplotlib.pyplot as plt\n",
        "import matplotlib\n",
        "from google.colab import files\n",
        "import seaborn as sns\n",
        "import plotly.graph_objects as go\n",
        "from plotly.subplots import make_subplots"
      ]
    },
    {
      "cell_type": "code",
      "execution_count": 2,
      "metadata": {
        "colab": {
          "base_uri": "https://localhost:8080/",
          "height": 332
        },
        "id": "Sts2gO6nLvLD",
        "outputId": "85688082-54db-46e1-b46a-5d031472663c"
      },
      "outputs": [
        {
          "output_type": "display_data",
          "data": {
            "text/plain": [
              "<IPython.core.display.HTML object>"
            ],
            "text/html": [
              "\n",
              "     <input type=\"file\" id=\"files-9e769980-459c-4aa5-b233-a17382a8e454\" name=\"files[]\" multiple disabled\n",
              "        style=\"border:none\" />\n",
              "     <output id=\"result-9e769980-459c-4aa5-b233-a17382a8e454\">\n",
              "      Upload widget is only available when the cell has been executed in the\n",
              "      current browser session. Please rerun this cell to enable.\n",
              "      </output>\n",
              "      <script>// Copyright 2017 Google LLC\n",
              "//\n",
              "// Licensed under the Apache License, Version 2.0 (the \"License\");\n",
              "// you may not use this file except in compliance with the License.\n",
              "// You may obtain a copy of the License at\n",
              "//\n",
              "//      http://www.apache.org/licenses/LICENSE-2.0\n",
              "//\n",
              "// Unless required by applicable law or agreed to in writing, software\n",
              "// distributed under the License is distributed on an \"AS IS\" BASIS,\n",
              "// WITHOUT WARRANTIES OR CONDITIONS OF ANY KIND, either express or implied.\n",
              "// See the License for the specific language governing permissions and\n",
              "// limitations under the License.\n",
              "\n",
              "/**\n",
              " * @fileoverview Helpers for google.colab Python module.\n",
              " */\n",
              "(function(scope) {\n",
              "function span(text, styleAttributes = {}) {\n",
              "  const element = document.createElement('span');\n",
              "  element.textContent = text;\n",
              "  for (const key of Object.keys(styleAttributes)) {\n",
              "    element.style[key] = styleAttributes[key];\n",
              "  }\n",
              "  return element;\n",
              "}\n",
              "\n",
              "// Max number of bytes which will be uploaded at a time.\n",
              "const MAX_PAYLOAD_SIZE = 100 * 1024;\n",
              "\n",
              "function _uploadFiles(inputId, outputId) {\n",
              "  const steps = uploadFilesStep(inputId, outputId);\n",
              "  const outputElement = document.getElementById(outputId);\n",
              "  // Cache steps on the outputElement to make it available for the next call\n",
              "  // to uploadFilesContinue from Python.\n",
              "  outputElement.steps = steps;\n",
              "\n",
              "  return _uploadFilesContinue(outputId);\n",
              "}\n",
              "\n",
              "// This is roughly an async generator (not supported in the browser yet),\n",
              "// where there are multiple asynchronous steps and the Python side is going\n",
              "// to poll for completion of each step.\n",
              "// This uses a Promise to block the python side on completion of each step,\n",
              "// then passes the result of the previous step as the input to the next step.\n",
              "function _uploadFilesContinue(outputId) {\n",
              "  const outputElement = document.getElementById(outputId);\n",
              "  const steps = outputElement.steps;\n",
              "\n",
              "  const next = steps.next(outputElement.lastPromiseValue);\n",
              "  return Promise.resolve(next.value.promise).then((value) => {\n",
              "    // Cache the last promise value to make it available to the next\n",
              "    // step of the generator.\n",
              "    outputElement.lastPromiseValue = value;\n",
              "    return next.value.response;\n",
              "  });\n",
              "}\n",
              "\n",
              "/**\n",
              " * Generator function which is called between each async step of the upload\n",
              " * process.\n",
              " * @param {string} inputId Element ID of the input file picker element.\n",
              " * @param {string} outputId Element ID of the output display.\n",
              " * @return {!Iterable<!Object>} Iterable of next steps.\n",
              " */\n",
              "function* uploadFilesStep(inputId, outputId) {\n",
              "  const inputElement = document.getElementById(inputId);\n",
              "  inputElement.disabled = false;\n",
              "\n",
              "  const outputElement = document.getElementById(outputId);\n",
              "  outputElement.innerHTML = '';\n",
              "\n",
              "  const pickedPromise = new Promise((resolve) => {\n",
              "    inputElement.addEventListener('change', (e) => {\n",
              "      resolve(e.target.files);\n",
              "    });\n",
              "  });\n",
              "\n",
              "  const cancel = document.createElement('button');\n",
              "  inputElement.parentElement.appendChild(cancel);\n",
              "  cancel.textContent = 'Cancel upload';\n",
              "  const cancelPromise = new Promise((resolve) => {\n",
              "    cancel.onclick = () => {\n",
              "      resolve(null);\n",
              "    };\n",
              "  });\n",
              "\n",
              "  // Wait for the user to pick the files.\n",
              "  const files = yield {\n",
              "    promise: Promise.race([pickedPromise, cancelPromise]),\n",
              "    response: {\n",
              "      action: 'starting',\n",
              "    }\n",
              "  };\n",
              "\n",
              "  cancel.remove();\n",
              "\n",
              "  // Disable the input element since further picks are not allowed.\n",
              "  inputElement.disabled = true;\n",
              "\n",
              "  if (!files) {\n",
              "    return {\n",
              "      response: {\n",
              "        action: 'complete',\n",
              "      }\n",
              "    };\n",
              "  }\n",
              "\n",
              "  for (const file of files) {\n",
              "    const li = document.createElement('li');\n",
              "    li.append(span(file.name, {fontWeight: 'bold'}));\n",
              "    li.append(span(\n",
              "        `(${file.type || 'n/a'}) - ${file.size} bytes, ` +\n",
              "        `last modified: ${\n",
              "            file.lastModifiedDate ? file.lastModifiedDate.toLocaleDateString() :\n",
              "                                    'n/a'} - `));\n",
              "    const percent = span('0% done');\n",
              "    li.appendChild(percent);\n",
              "\n",
              "    outputElement.appendChild(li);\n",
              "\n",
              "    const fileDataPromise = new Promise((resolve) => {\n",
              "      const reader = new FileReader();\n",
              "      reader.onload = (e) => {\n",
              "        resolve(e.target.result);\n",
              "      };\n",
              "      reader.readAsArrayBuffer(file);\n",
              "    });\n",
              "    // Wait for the data to be ready.\n",
              "    let fileData = yield {\n",
              "      promise: fileDataPromise,\n",
              "      response: {\n",
              "        action: 'continue',\n",
              "      }\n",
              "    };\n",
              "\n",
              "    // Use a chunked sending to avoid message size limits. See b/62115660.\n",
              "    let position = 0;\n",
              "    do {\n",
              "      const length = Math.min(fileData.byteLength - position, MAX_PAYLOAD_SIZE);\n",
              "      const chunk = new Uint8Array(fileData, position, length);\n",
              "      position += length;\n",
              "\n",
              "      const base64 = btoa(String.fromCharCode.apply(null, chunk));\n",
              "      yield {\n",
              "        response: {\n",
              "          action: 'append',\n",
              "          file: file.name,\n",
              "          data: base64,\n",
              "        },\n",
              "      };\n",
              "\n",
              "      let percentDone = fileData.byteLength === 0 ?\n",
              "          100 :\n",
              "          Math.round((position / fileData.byteLength) * 100);\n",
              "      percent.textContent = `${percentDone}% done`;\n",
              "\n",
              "    } while (position < fileData.byteLength);\n",
              "  }\n",
              "\n",
              "  // All done.\n",
              "  yield {\n",
              "    response: {\n",
              "      action: 'complete',\n",
              "    }\n",
              "  };\n",
              "}\n",
              "\n",
              "scope.google = scope.google || {};\n",
              "scope.google.colab = scope.google.colab || {};\n",
              "scope.google.colab._files = {\n",
              "  _uploadFiles,\n",
              "  _uploadFilesContinue,\n",
              "};\n",
              "})(self);\n",
              "</script> "
            ]
          },
          "metadata": {}
        },
        {
          "output_type": "error",
          "ename": "KeyboardInterrupt",
          "evalue": "ignored",
          "traceback": [
            "\u001b[0;31m---------------------------------------------------------------------------\u001b[0m",
            "\u001b[0;31mKeyboardInterrupt\u001b[0m                         Traceback (most recent call last)",
            "\u001b[0;32m<ipython-input-2-138becc804b3>\u001b[0m in \u001b[0;36m<module>\u001b[0;34m\u001b[0m\n\u001b[0;32m----> 1\u001b[0;31m \u001b[0mupload\u001b[0m\u001b[0;34m=\u001b[0m\u001b[0mfiles\u001b[0m\u001b[0;34m.\u001b[0m\u001b[0mupload\u001b[0m\u001b[0;34m(\u001b[0m\u001b[0;34m)\u001b[0m\u001b[0;34m\u001b[0m\u001b[0;34m\u001b[0m\u001b[0m\n\u001b[0m",
            "\u001b[0;32m/usr/local/lib/python3.8/dist-packages/google/colab/files.py\u001b[0m in \u001b[0;36mupload\u001b[0;34m()\u001b[0m\n\u001b[1;32m     65\u001b[0m   \"\"\"\n\u001b[1;32m     66\u001b[0m \u001b[0;34m\u001b[0m\u001b[0m\n\u001b[0;32m---> 67\u001b[0;31m   \u001b[0muploaded_files\u001b[0m \u001b[0;34m=\u001b[0m \u001b[0m_upload_files\u001b[0m\u001b[0;34m(\u001b[0m\u001b[0mmultiple\u001b[0m\u001b[0;34m=\u001b[0m\u001b[0;32mTrue\u001b[0m\u001b[0;34m)\u001b[0m\u001b[0;34m\u001b[0m\u001b[0;34m\u001b[0m\u001b[0m\n\u001b[0m\u001b[1;32m     68\u001b[0m   \u001b[0;31m# Mapping from original filename to filename as saved locally.\u001b[0m\u001b[0;34m\u001b[0m\u001b[0;34m\u001b[0m\u001b[0;34m\u001b[0m\u001b[0m\n\u001b[1;32m     69\u001b[0m   \u001b[0mlocal_filenames\u001b[0m \u001b[0;34m=\u001b[0m \u001b[0mdict\u001b[0m\u001b[0;34m(\u001b[0m\u001b[0;34m)\u001b[0m\u001b[0;34m\u001b[0m\u001b[0;34m\u001b[0m\u001b[0m\n",
            "\u001b[0;32m/usr/local/lib/python3.8/dist-packages/google/colab/files.py\u001b[0m in \u001b[0;36m_upload_files\u001b[0;34m(multiple)\u001b[0m\n\u001b[1;32m    142\u001b[0m \u001b[0;34m\u001b[0m\u001b[0m\n\u001b[1;32m    143\u001b[0m   \u001b[0;31m# First result is always an indication that the file picker has completed.\u001b[0m\u001b[0;34m\u001b[0m\u001b[0;34m\u001b[0m\u001b[0;34m\u001b[0m\u001b[0m\n\u001b[0;32m--> 144\u001b[0;31m   result = _output.eval_js(\n\u001b[0m\u001b[1;32m    145\u001b[0m       'google.colab._files._uploadFiles(\"{input_id}\", \"{output_id}\")'.format(\n\u001b[1;32m    146\u001b[0m           input_id=input_id, output_id=output_id))\n",
            "\u001b[0;32m/usr/local/lib/python3.8/dist-packages/google/colab/output/_js.py\u001b[0m in \u001b[0;36meval_js\u001b[0;34m(script, ignore_result, timeout_sec)\u001b[0m\n\u001b[1;32m     38\u001b[0m   \u001b[0;32mif\u001b[0m \u001b[0mignore_result\u001b[0m\u001b[0;34m:\u001b[0m\u001b[0;34m\u001b[0m\u001b[0;34m\u001b[0m\u001b[0m\n\u001b[1;32m     39\u001b[0m     \u001b[0;32mreturn\u001b[0m\u001b[0;34m\u001b[0m\u001b[0;34m\u001b[0m\u001b[0m\n\u001b[0;32m---> 40\u001b[0;31m   \u001b[0;32mreturn\u001b[0m \u001b[0m_message\u001b[0m\u001b[0;34m.\u001b[0m\u001b[0mread_reply_from_input\u001b[0m\u001b[0;34m(\u001b[0m\u001b[0mrequest_id\u001b[0m\u001b[0;34m,\u001b[0m \u001b[0mtimeout_sec\u001b[0m\u001b[0;34m)\u001b[0m\u001b[0;34m\u001b[0m\u001b[0;34m\u001b[0m\u001b[0m\n\u001b[0m\u001b[1;32m     41\u001b[0m \u001b[0;34m\u001b[0m\u001b[0m\n\u001b[1;32m     42\u001b[0m \u001b[0;34m\u001b[0m\u001b[0m\n",
            "\u001b[0;32m/usr/local/lib/python3.8/dist-packages/google/colab/_message.py\u001b[0m in \u001b[0;36mread_reply_from_input\u001b[0;34m(message_id, timeout_sec)\u001b[0m\n\u001b[1;32m     95\u001b[0m     \u001b[0mreply\u001b[0m \u001b[0;34m=\u001b[0m \u001b[0m_read_next_input_message\u001b[0m\u001b[0;34m(\u001b[0m\u001b[0;34m)\u001b[0m\u001b[0;34m\u001b[0m\u001b[0;34m\u001b[0m\u001b[0m\n\u001b[1;32m     96\u001b[0m     \u001b[0;32mif\u001b[0m \u001b[0mreply\u001b[0m \u001b[0;34m==\u001b[0m \u001b[0m_NOT_READY\u001b[0m \u001b[0;32mor\u001b[0m \u001b[0;32mnot\u001b[0m \u001b[0misinstance\u001b[0m\u001b[0;34m(\u001b[0m\u001b[0mreply\u001b[0m\u001b[0;34m,\u001b[0m \u001b[0mdict\u001b[0m\u001b[0;34m)\u001b[0m\u001b[0;34m:\u001b[0m\u001b[0;34m\u001b[0m\u001b[0;34m\u001b[0m\u001b[0m\n\u001b[0;32m---> 97\u001b[0;31m       \u001b[0mtime\u001b[0m\u001b[0;34m.\u001b[0m\u001b[0msleep\u001b[0m\u001b[0;34m(\u001b[0m\u001b[0;36m0.025\u001b[0m\u001b[0;34m)\u001b[0m\u001b[0;34m\u001b[0m\u001b[0;34m\u001b[0m\u001b[0m\n\u001b[0m\u001b[1;32m     98\u001b[0m       \u001b[0;32mcontinue\u001b[0m\u001b[0;34m\u001b[0m\u001b[0;34m\u001b[0m\u001b[0m\n\u001b[1;32m     99\u001b[0m     if (reply.get('type') == 'colab_reply' and\n",
            "\u001b[0;31mKeyboardInterrupt\u001b[0m: "
          ]
        }
      ],
      "source": [
        "upload=files.upload()"
      ]
    },
    {
      "cell_type": "code",
      "execution_count": null,
      "metadata": {
        "id": "I7vc2yA4FEHq"
      },
      "outputs": [],
      "source": [
        "violence_data = pd.read_csv('/content/violence_data.csv')\n",
        "#violence_data = pd.read_csv('/content/drive/MyDrive/violence_data.csv')\n",
        "#print(violence_data[:20])\n",
        "violence_data.head()"
      ]
    },
    {
      "cell_type": "code",
      "execution_count": null,
      "metadata": {
        "id": "fj64Ot4ltCRp"
      },
      "outputs": [],
      "source": [
        "#print(violence_data[:20])\n",
        "#violence_data = violence_data.dropna(axis=0,how='any')\n",
        "#print(violence_data[:20])\n",
        "filter = violence_data['Gender'] == 'F'\n",
        "violence_data.where(filter, inplace=True)\n",
        "violence_data"
      ]
    },
    {
      "cell_type": "code",
      "execution_count": null,
      "metadata": {
        "id": "iI4rZBCDteEg"
      },
      "outputs": [],
      "source": [
        "#females= violence_data['Gender'].tolist().count('F')\n",
        "EVEN_ROW_COLOR = \"#e6dc5a\"\n",
        "ODD_ROW_COLOR = \"#e3af40\"\n",
        "\n",
        "demographics_df = violence_data.groupby([\"Demographics Question\", \"Demographics Response\"])[\"Value\"].agg([\"median\", \"max\",\"min\", \"mean\"]).reset_index()\n",
        "demographics_df.columns = [\"Question\", \"Response\" ,\"Median\", \"Max\",\"Min\" ,\"Mean\"]\n",
        "print(\"Violence % median, max, and mean per demographic group\")\n",
        "demographics_df.sort_values([\"Question\", \"Mean\"])\n",
        "\n",
        "demographics_df\n",
        "#demographics_df.style.set_table_styles(\n",
        " #   [\n",
        "  #      {\n",
        "   #         'selector': 'th',\n",
        "    #        'props': [('background-color', 'lightyellow')]\n",
        "     #   },\n",
        "    #    {\n",
        "      #      'selector': 'tbody tr:nth-child(even)',\n",
        "     #       'props': [('background-color', EVEN_ROW_COLOR)]\n",
        "       # },\n",
        "     #{\n",
        "      #      'selector': 'tbody tr:nth-child(odd)',\n",
        "       #     'props': [('background-color', ODD_ROW_COLOR)]\n",
        "        #}\n",
        "   # ]\n",
        "#)"
      ]
    },
    {
      "cell_type": "code",
      "execution_count": null,
      "metadata": {
        "id": "ZHat8-icLtEC"
      },
      "outputs": [],
      "source": [
        "demoq_df = violence_data.groupby([\"Demographics Question\", \"Demographics Response\", \"Question\"])[\"Value\"].agg([\"median\", \"max\", \"min\", \"mean\"]).reset_index()\n",
        "demoq_df.columns = [\"Demographics Question\", \"Demographics Response\", \"Question\", \"Median\", \"Max\", \"Min\", \"Mean\"]\n",
        "print(\"Violence % median, min, max, and mean per demographic group and question asked\")\n",
        "demoq_df = demoq_df.sort_values([\"Demographics Question\", \"Demographics Response\", \"Median\"])\n",
        "#demoq_df[:20]"
      ]
    },
    {
      "cell_type": "code",
      "execution_count": null,
      "metadata": {
        "id": "ZqXD-w6aybfT"
      },
      "outputs": [],
      "source": [
        "demographics_df = violence_data.groupby([\"Demographics Question\", \"Demographics Response\", \"Question\"])[\"Value\"].agg([\"mean\"]).reset_index()\n",
        "filter = demographics_df[\"Demographics Question\"] == \"Age\"\n",
        "demographics_df.where(filter, inplace=True)\n",
        "demographics_df = demographics_df.dropna()\n",
        "demographics_df.drop(\"Demographics Question\", inplace=True, axis=1)\n",
        "demographics_df.sort_values([\"Question\", \"Demographics Response\"])\n",
        "df = pd.DataFrame({\n",
        "  '15-24': (demographics_df.loc[demographics_df[\"Demographics Response\"] == \"15-24\"])[\"mean\"].tolist(),\n",
        "  '25-34': (demographics_df.loc[demographics_df[\"Demographics Response\"] == \"25-34\"])[\"mean\"].tolist(),\n",
        "  '35-49': (demographics_df.loc[demographics_df[\"Demographics Response\"] == \"35-49\"])[\"mean\"].tolist(),\n",
        "  'Question': demographics_df[\"Question\"].unique()\n",
        "})\n",
        "\n",
        "df.plot(x=\"Question\",ylabel=\"Mean\", rot=360, kind='barh',colormap='Oranges')\n",
        "print(df)\n"
      ]
    },
    {
      "cell_type": "code",
      "execution_count": null,
      "metadata": {
        "id": "NhhvKMw93n8c"
      },
      "outputs": [],
      "source": [
        "demographics_df = violence_data.groupby([\"Gender\", \"Question\"])[\"Value\"].agg([\"mean\"]).reset_index()\n",
        "demographics_df\n",
        "demographics_df.sort_values([\"Question\", \"Gender\"])\n",
        "\n",
        "\n",
        "df = pd.DataFrame({\n",
        "    'F': (demographics_df.loc[demographics_df[\"Gender\"] == \"F\"])[\"mean\"].tolist(),\n",
        "    'M': (demographics_df.loc[demographics_df[\"Gender\"] == \"M\"])[\"mean\"].tolist(),\n",
        "    'Question': demographics_df[\"Question\"].unique()\n",
        "})\n",
        "df\n",
        "df.plot(x=\"Question\", rot=360, kind='barh',fontsize = 11, colormap='cool', stacked=True)\n",
        "print(df)\n"
      ]
    },
    {
      "cell_type": "code",
      "execution_count": null,
      "metadata": {
        "id": "H1NwDJ6Z8Lxl"
      },
      "outputs": [],
      "source": [
        "demographics_df = violence_data.groupby([\"Demographics Question\", \"Demographics Response\", \"Question\"])[\"Value\"].agg([\"mean\"]).reset_index()\n",
        "filter = demographics_df[\"Demographics Question\"] == \"Education\"\n",
        "demographics_df.where(filter, inplace=True)\n",
        "demographics_df = demographics_df.dropna()\n",
        "demographics_df.drop(\"Demographics Question\", inplace=True, axis=1)\n",
        "demographics_df.sort_values([\"Question\", \"Demographics Response\"])\n",
        "\n",
        "\n",
        "df = pd.DataFrame({\n",
        "    'Higher': (demographics_df.loc[demographics_df[\"Demographics Response\"] == \"Higher\"])[\"mean\"].tolist(),\n",
        "    'Secondary': (demographics_df.loc[demographics_df[\"Demographics Response\"] == \"Secondary\"])[\"mean\"].tolist(),\n",
        "    'Primary': (demographics_df.loc[demographics_df[\"Demographics Response\"] == \"Primary\"])[\"mean\"].tolist(),\n",
        "    'No education': (demographics_df.loc[demographics_df[\"Demographics Response\"] == \"No education\"])[\"mean\"].tolist(),\n",
        "    'Question': demographics_df[\"Question\"].unique()\n",
        "})\n",
        "\n",
        "df.plot.area(x=\"Question\",ylabel=\"Mean\",rot=90, fontsize = 12,figsize=[7,6], colormap='Wistia')\n",
        "print(df)"
      ]
    },
    {
      "cell_type": "code",
      "execution_count": null,
      "metadata": {
        "id": "qGeItZkybHh7"
      },
      "outputs": [],
      "source": [
        "demographics_df = violence_data.groupby([\"Demographics Question\", \"Demographics Response\",\"Gender\"])[\"Value\"].agg([\"mean\"]).reset_index()\n",
        "filter = demographics_df[\"Demographics Question\"] == \"Education\"\n",
        "demographics_df.where(filter, inplace=True)\n",
        "demographics_df = demographics_df.dropna()\n",
        "demographics_df.drop(\"Demographics Question\", inplace=True, axis=1)\n",
        "demographics_df.sort_values([\"Gender\", \"Demographics Response\"])\n",
        "\n",
        "\n",
        "df = pd.DataFrame({\n",
        "    'Higher': (demographics_df.loc[demographics_df[\"Demographics Response\"] == \"Higher\"])[\"mean\"].tolist(),\n",
        "    'Secondary': (demographics_df.loc[demographics_df[\"Demographics Response\"] == \"Secondary\"])[\"mean\"].tolist(),\n",
        "    'Primary': (demographics_df.loc[demographics_df[\"Demographics Response\"] == \"Primary\"])[\"mean\"].tolist(),\n",
        "    'No education': (demographics_df.loc[demographics_df[\"Demographics Response\"] == \"No education\"])[\"mean\"].tolist(),\n",
        "    #'Gender': demographics_df[\"Gender\"].unique()\n",
        "})\n",
        "print(df)\n",
        "df_transpose = df.T\n",
        "df_transpose.plot(rot=90, fontsize = 12, colormap='spring', kind='bar', stacked=True,)\n",
        "plt.legend([\"Female\", \"Male\"]);\n",
        "print(df_transpose)"
      ]
    },
    {
      "cell_type": "code",
      "execution_count": null,
      "metadata": {
        "id": "8pgduWiIdejM"
      },
      "outputs": [],
      "source": [
        "gb = violence_data.groupby('Demographics Question')\n",
        "residence = gb.get_group('Residence')\n",
        "residence\n",
        "# res_groupby = residence.groupby('Demographics Response')\n",
        "# res_groupby.get_group('Rural')\n",
        "\n",
        "# eb = violence_data.groupby('Demographics Question')\n",
        "# education = eb.get_group('Education')\n",
        "# ed_groupby = education.groupby('Demographics Response')\n",
        "# ed_groupby.get_group('Higher')"
      ]
    },
    {
      "cell_type": "code",
      "execution_count": null,
      "metadata": {
        "id": "fMk-qX608rMp"
      },
      "outputs": [],
      "source": [
        "#demographics_df = violence_data.groupby([\"Demo])[\"Value\"].agg([\"mean\"]).reset_index()\n",
        "violence_data['Survey Year'] = pd.to_datetime(violence_data['Survey Year'])\n",
        "\n",
        "df_mean = violence_data.groupby([violence_data['Survey Year'].dt.year])['Value'].mean().reset_index()\n",
        "#print(df_mean)\n",
        "\n",
        "# xticks = df_mean['Survey Year'].tolist()\n",
        "# xticks_short = [v for i, v in enumerate(xticks) if i % 5 == 0]\n",
        "\n",
        "# for country in df_mean['Country'].unique():\n",
        "#   print(df_mean.loc[df_mean[\"Country\"] == country])\n",
        "print(df_mean)\n",
        "\n",
        "df_mean.plot(x='Survey Year', kind='bar',rot=90,fontsize = 12, colormap='Wistia')\n",
        "\n",
        "# ax.set_xticks(range(0, 20, 2))\n",
        "# ax.set_xticklabels(range(2000, 2020, 2))\n",
        "\n"
      ]
    },
    {
      "cell_type": "code",
      "execution_count": null,
      "metadata": {
        "id": "trpiIesIwzjx"
      },
      "outputs": [],
      "source": [
        "demographics_df = violence_data.groupby([\"Demographics Question\", \"Demographics Response\", \"Question\"])[\"Value\"].agg([\"mean\"]).reset_index()\n",
        "filter = demographics_df[\"Demographics Question\"] == \"Employment\"\n",
        "demographics_df.where(filter, inplace=True)\n",
        "demographics_df = demographics_df.dropna()\n",
        "demographics_df.drop(\"Demographics Question\", inplace=True, axis=1)\n",
        "demographics_df.sort_values([\"Question\", \"Demographics Response\"])\n",
        "\n",
        "\n",
        "df = pd.DataFrame({\n",
        "    'Unemployed': (demographics_df.loc[demographics_df[\"Demographics Response\"] == \"Unemployed\"])[\"mean\"].tolist(),\n",
        "    'Employed for cash': (demographics_df.loc[demographics_df[\"Demographics Response\"] == \"Employed for cash\"])[\"mean\"].tolist(),\n",
        "    'Employed for kind': (demographics_df.loc[demographics_df[\"Demographics Response\"] == \"Employed for kind\"])[\"mean\"].tolist(),\n",
        "    'Question': demographics_df[\"Question\"].unique()\n",
        "})\n",
        "\n",
        "df.plot.area(x=\"Question\",ylabel=\"Mean\",rot=90,colormap='GnBu',fontsize = 11)\n",
        "print(df)"
      ]
    },
    {
      "cell_type": "code",
      "execution_count": null,
      "metadata": {
        "id": "g1f0gwQ2DNWD"
      },
      "outputs": [],
      "source": [
        "demographics_df = violence_data.groupby([\"Demographics Question\", \"Demographics Response\", \"Question\"])[\"Value\"].agg([\"mean\"]).reset_index()\n",
        "filter = demographics_df[\"Demographics Question\"] == \"Marital status\"\n",
        "demographics_df.where(filter, inplace=True)\n",
        "demographics_df = demographics_df.dropna()\n",
        "demographics_df.drop(\"Demographics Question\", inplace=True, axis=1)\n",
        "demographics_df.sort_values([\"Question\", \"Demographics Response\"])\n",
        "\n",
        "\n",
        "df = pd.DataFrame({\n",
        "    'Married or living together': (demographics_df.loc[demographics_df[\"Demographics Response\"] == \"Married or living together\"])[\"mean\"].tolist(),\n",
        "    'Never married': (demographics_df.loc[demographics_df[\"Demographics Response\"] == \"Never married\"])[\"mean\"].tolist(),\n",
        "    'Widowed, divorced, separated': (demographics_df.loc[demographics_df[\"Demographics Response\"] == \"Widowed, divorced, separated\"])[\"mean\"].tolist(),\n",
        "    'Question': demographics_df[\"Question\"].unique()\n",
        "})\n",
        "\n",
        "df.plot(x=\"Question\",ylabel=\"Mean\",rot=90,colormap='flare',fontsize = 11, kind=\"bar\",stacked=True)"
      ]
    },
    {
      "cell_type": "code",
      "execution_count": null,
      "metadata": {
        "id": "e7Ai_SoII9a5"
      },
      "outputs": [],
      "source": [
        "demographics_df = violence_data.groupby([\"Demographics Question\", \"Demographics Response\", \"Question\"])[\"Value\"].agg([\"mean\"]).reset_index()\n",
        "filter = demographics_df[\"Demographics Question\"] == \"Residence\"\n",
        "demographics_df.where(filter, inplace=True)\n",
        "demographics_df = demographics_df.dropna()\n",
        "demographics_df.drop(\"Demographics Question\", inplace=True, axis=1)\n",
        "demographics_df.sort_values([\"Question\", \"Demographics Response\"])\n",
        "\n",
        "\n",
        "df = pd.DataFrame({\n",
        "    'Urban': (demographics_df.loc[demographics_df[\"Demographics Response\"] == \"Urban\"])[\"mean\"].tolist(),\n",
        "    'Rural': (demographics_df.loc[demographics_df[\"Demographics Response\"] == \"Rural\"])[\"mean\"].tolist(),\n",
        "    'Question': demographics_df[\"Question\"].unique()\n",
        "})\n",
        "\n",
        "df.plot(x=\"Question\",ylabel=\"Mean\",rot=360,colormap='Set3',fontsize = 11, kind=\"barh\")\n",
        "print(df)"
      ]
    },
    {
      "cell_type": "code",
      "execution_count": null,
      "metadata": {
        "id": "LElnA8fFQxKg"
      },
      "outputs": [],
      "source": [
        "country_df = pd.read_csv('/content/wikipedia-iso-country-codes.csv')\n",
        "country_df.columns = [\"Country\", \"A2C\", \"A3C\", \"Num\",\"ISO\"]\n",
        "datac_df = violence_data.merge(country_df)\n",
        "df = datac_df.groupby([\"Country\", \"A3C\"])[\"Value\"].agg([\"median\", \"max\", \"min\", \"mean\"]).reset_index()\n",
        "df.columns = [\"Country\", \"A3C\", \"Median\", \"Max\", \"Min\", \"Mean\"]\n"
      ]
    },
    {
      "cell_type": "code",
      "execution_count": null,
      "metadata": {
        "id": "mgshnwm0AxJa"
      },
      "outputs": [],
      "source": [
        "def show_on_map(df, aggregate, title):\n",
        "    fig = go.Figure(data=go.Choropleth(\n",
        "        locations = df['A3C'],\n",
        "        z = df[aggregate],\n",
        "        text = df['Country'],\n",
        "        colorscale = 'sunsetdark',\n",
        "        autocolorscale=False,\n",
        "        reversescale=False,\n",
        "        marker_line_color='darkgray',\n",
        "        marker_line_width=0.5,\n",
        "        colorbar_tickprefix = '%',\n",
        "        colorbar_title = 'Violence %',\n",
        "    ))\n",
        "\n",
        "    fig.update_layout(\n",
        "        title_text=title,\n",
        "        geo=dict(\n",
        "            showframe=False,\n",
        "            showcoastlines=False,\n",
        "            projection_type='equirectangular'\n",
        "        ),\n",
        "        annotations = [dict(\n",
        "            x=0.55,\n",
        "            y=0.1,\n",
        "            xref='paper',\n",
        "            yref='paper',\n",
        "            text='Source: <a href=\"https://www.kaggle.com/andrewmvd/violence-against-women-and-girls\">\\\n",
        "                Violence against Women and Girls</a>',\n",
        "            showarrow = False\n",
        "        )]\n",
        "    )\n",
        "\n",
        "    fig.show()"
      ]
    },
    {
      "cell_type": "code",
      "execution_count": null,
      "metadata": {
        "id": "PjaiUq2xCAxh"
      },
      "outputs": [],
      "source": [
        "show_on_map(df, \"Mean\", \"Violence against Women and Girls - Country mean level of violence[%]\")"
      ]
    },
    {
      "cell_type": "code",
      "execution_count": null,
      "metadata": {
        "id": "qctNgZ84Nmz8"
      },
      "outputs": [],
      "source": [
        "def show_on_map(df, aggregate, title):\n",
        "    fig = go.Figure(data=go.Choropleth(\n",
        "        locations = df['A3C'],\n",
        "        z = df[aggregate],\n",
        "        text = df['Country'],\n",
        "        colorscale = 'dense',\n",
        "        autocolorscale=False,\n",
        "        reversescale=False,\n",
        "        marker_line_color='darkgray',\n",
        "        marker_line_width=0.5,\n",
        "        colorbar_tickprefix = '%',\n",
        "        colorbar_title = 'Violence %',\n",
        "    ))\n",
        "\n",
        "    fig.update_layout(\n",
        "        title_text=title,\n",
        "        geo=dict(\n",
        "            showframe=False,\n",
        "            showcoastlines=False,\n",
        "            projection_type='equirectangular'\n",
        "        ),\n",
        "        annotations = [dict(\n",
        "            x=0.55,\n",
        "            y=0.1,\n",
        "            xref='paper',\n",
        "            yref='paper',\n",
        "            text='Source: <a href=\"https://www.kaggle.com/andrewmvd/violence-against-women-and-girls\">\\\n",
        "                Violence against Women and Girls</a>',\n",
        "            showarrow = False\n",
        "        )]\n",
        "    )\n",
        "\n",
        "    fig.show()\n",
        "\n",
        "filter_df = datac_df.loc[datac_df[\"Demographics Response\"]==\"No education\"]\n",
        "df = filter_df.groupby([\"Country\", \"A3C\"])[\"Value\"].agg([\"mean\"]).reset_index()\n",
        "df.columns = [\"Country\", \"A3C\", \"Mean\"]\n",
        "show_on_map(df, \"Mean\", \"Violence against Women with No education - Country Median level of violence [%]\")"
      ]
    }
  ],
  "metadata": {
    "colab": {
      "provenance": [],
      "include_colab_link": true
    },
    "kernelspec": {
      "display_name": "Python 3",
      "name": "python3"
    },
    "language_info": {
      "name": "python"
    }
  },
  "nbformat": 4,
  "nbformat_minor": 0
}