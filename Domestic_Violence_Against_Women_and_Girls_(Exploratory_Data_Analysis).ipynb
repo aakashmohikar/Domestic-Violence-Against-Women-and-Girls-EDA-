{
  "nbformat": 4,
  "nbformat_minor": 0,
  "metadata": {
    "colab": {
      "provenance": [],
      "include_colab_link": true
    },
    "kernelspec": {
      "name": "python3",
      "display_name": "Python 3"
    },
    "language_info": {
      "name": "python"
    }
  },
  "cells": [
    {
      "cell_type": "markdown",
      "metadata": {
        "id": "view-in-github",
        "colab_type": "text"
      },
      "source": [
        "<a href=\"https://colab.research.google.com/github/aakashmohikar/Domestic-Violence-Against-Women-and-Girls-EDA-/blob/main/Domestic_Violence_Against_Women_and_Girls_(Exploratory_Data_Analysis).ipynb\" target=\"_parent\"><img src=\"https://colab.research.google.com/assets/colab-badge.svg\" alt=\"Open In Colab\"/></a>"
      ]
    },
    {
      "cell_type": "code",
      "execution_count": 1,
      "metadata": {
        "id": "x93oIu2yE7Yp"
      },
      "outputs": [],
      "source": [
        "import pandas as pd \n",
        "import matplotlib.pyplot as plt\n",
        "import matplotlib\n",
        "from google.colab import files\n",
        "import seaborn as sns\n",
        "import plotly.graph_objects as go\n",
        "from plotly.subplots import make_subplots"
      ]
    },
    {
      "cell_type": "code",
      "source": [
        "upload=files.upload()"
      ],
      "metadata": {
        "id": "Sts2gO6nLvLD",
        "colab": {
          "base_uri": "https://localhost:8080/",
          "height": 107
        },
        "outputId": "2e96764d-6afb-4057-bb63-ec237055fcfa"
      },
      "execution_count": 2,
      "outputs": [
        {
          "output_type": "display_data",
          "data": {
            "text/plain": [
              "<IPython.core.display.HTML object>"
            ],
            "text/html": [
              "\n",
              "     <input type=\"file\" id=\"files-4ace85e0-4184-440c-8dd6-3ee815b13b31\" name=\"files[]\" multiple disabled\n",
              "        style=\"border:none\" />\n",
              "     <output id=\"result-4ace85e0-4184-440c-8dd6-3ee815b13b31\">\n",
              "      Upload widget is only available when the cell has been executed in the\n",
              "      current browser session. Please rerun this cell to enable.\n",
              "      </output>\n",
              "      <script>// Copyright 2017 Google LLC\n",
              "//\n",
              "// Licensed under the Apache License, Version 2.0 (the \"License\");\n",
              "// you may not use this file except in compliance with the License.\n",
              "// You may obtain a copy of the License at\n",
              "//\n",
              "//      http://www.apache.org/licenses/LICENSE-2.0\n",
              "//\n",
              "// Unless required by applicable law or agreed to in writing, software\n",
              "// distributed under the License is distributed on an \"AS IS\" BASIS,\n",
              "// WITHOUT WARRANTIES OR CONDITIONS OF ANY KIND, either express or implied.\n",
              "// See the License for the specific language governing permissions and\n",
              "// limitations under the License.\n",
              "\n",
              "/**\n",
              " * @fileoverview Helpers for google.colab Python module.\n",
              " */\n",
              "(function(scope) {\n",
              "function span(text, styleAttributes = {}) {\n",
              "  const element = document.createElement('span');\n",
              "  element.textContent = text;\n",
              "  for (const key of Object.keys(styleAttributes)) {\n",
              "    element.style[key] = styleAttributes[key];\n",
              "  }\n",
              "  return element;\n",
              "}\n",
              "\n",
              "// Max number of bytes which will be uploaded at a time.\n",
              "const MAX_PAYLOAD_SIZE = 100 * 1024;\n",
              "\n",
              "function _uploadFiles(inputId, outputId) {\n",
              "  const steps = uploadFilesStep(inputId, outputId);\n",
              "  const outputElement = document.getElementById(outputId);\n",
              "  // Cache steps on the outputElement to make it available for the next call\n",
              "  // to uploadFilesContinue from Python.\n",
              "  outputElement.steps = steps;\n",
              "\n",
              "  return _uploadFilesContinue(outputId);\n",
              "}\n",
              "\n",
              "// This is roughly an async generator (not supported in the browser yet),\n",
              "// where there are multiple asynchronous steps and the Python side is going\n",
              "// to poll for completion of each step.\n",
              "// This uses a Promise to block the python side on completion of each step,\n",
              "// then passes the result of the previous step as the input to the next step.\n",
              "function _uploadFilesContinue(outputId) {\n",
              "  const outputElement = document.getElementById(outputId);\n",
              "  const steps = outputElement.steps;\n",
              "\n",
              "  const next = steps.next(outputElement.lastPromiseValue);\n",
              "  return Promise.resolve(next.value.promise).then((value) => {\n",
              "    // Cache the last promise value to make it available to the next\n",
              "    // step of the generator.\n",
              "    outputElement.lastPromiseValue = value;\n",
              "    return next.value.response;\n",
              "  });\n",
              "}\n",
              "\n",
              "/**\n",
              " * Generator function which is called between each async step of the upload\n",
              " * process.\n",
              " * @param {string} inputId Element ID of the input file picker element.\n",
              " * @param {string} outputId Element ID of the output display.\n",
              " * @return {!Iterable<!Object>} Iterable of next steps.\n",
              " */\n",
              "function* uploadFilesStep(inputId, outputId) {\n",
              "  const inputElement = document.getElementById(inputId);\n",
              "  inputElement.disabled = false;\n",
              "\n",
              "  const outputElement = document.getElementById(outputId);\n",
              "  outputElement.innerHTML = '';\n",
              "\n",
              "  const pickedPromise = new Promise((resolve) => {\n",
              "    inputElement.addEventListener('change', (e) => {\n",
              "      resolve(e.target.files);\n",
              "    });\n",
              "  });\n",
              "\n",
              "  const cancel = document.createElement('button');\n",
              "  inputElement.parentElement.appendChild(cancel);\n",
              "  cancel.textContent = 'Cancel upload';\n",
              "  const cancelPromise = new Promise((resolve) => {\n",
              "    cancel.onclick = () => {\n",
              "      resolve(null);\n",
              "    };\n",
              "  });\n",
              "\n",
              "  // Wait for the user to pick the files.\n",
              "  const files = yield {\n",
              "    promise: Promise.race([pickedPromise, cancelPromise]),\n",
              "    response: {\n",
              "      action: 'starting',\n",
              "    }\n",
              "  };\n",
              "\n",
              "  cancel.remove();\n",
              "\n",
              "  // Disable the input element since further picks are not allowed.\n",
              "  inputElement.disabled = true;\n",
              "\n",
              "  if (!files) {\n",
              "    return {\n",
              "      response: {\n",
              "        action: 'complete',\n",
              "      }\n",
              "    };\n",
              "  }\n",
              "\n",
              "  for (const file of files) {\n",
              "    const li = document.createElement('li');\n",
              "    li.append(span(file.name, {fontWeight: 'bold'}));\n",
              "    li.append(span(\n",
              "        `(${file.type || 'n/a'}) - ${file.size} bytes, ` +\n",
              "        `last modified: ${\n",
              "            file.lastModifiedDate ? file.lastModifiedDate.toLocaleDateString() :\n",
              "                                    'n/a'} - `));\n",
              "    const percent = span('0% done');\n",
              "    li.appendChild(percent);\n",
              "\n",
              "    outputElement.appendChild(li);\n",
              "\n",
              "    const fileDataPromise = new Promise((resolve) => {\n",
              "      const reader = new FileReader();\n",
              "      reader.onload = (e) => {\n",
              "        resolve(e.target.result);\n",
              "      };\n",
              "      reader.readAsArrayBuffer(file);\n",
              "    });\n",
              "    // Wait for the data to be ready.\n",
              "    let fileData = yield {\n",
              "      promise: fileDataPromise,\n",
              "      response: {\n",
              "        action: 'continue',\n",
              "      }\n",
              "    };\n",
              "\n",
              "    // Use a chunked sending to avoid message size limits. See b/62115660.\n",
              "    let position = 0;\n",
              "    do {\n",
              "      const length = Math.min(fileData.byteLength - position, MAX_PAYLOAD_SIZE);\n",
              "      const chunk = new Uint8Array(fileData, position, length);\n",
              "      position += length;\n",
              "\n",
              "      const base64 = btoa(String.fromCharCode.apply(null, chunk));\n",
              "      yield {\n",
              "        response: {\n",
              "          action: 'append',\n",
              "          file: file.name,\n",
              "          data: base64,\n",
              "        },\n",
              "      };\n",
              "\n",
              "      let percentDone = fileData.byteLength === 0 ?\n",
              "          100 :\n",
              "          Math.round((position / fileData.byteLength) * 100);\n",
              "      percent.textContent = `${percentDone}% done`;\n",
              "\n",
              "    } while (position < fileData.byteLength);\n",
              "  }\n",
              "\n",
              "  // All done.\n",
              "  yield {\n",
              "    response: {\n",
              "      action: 'complete',\n",
              "    }\n",
              "  };\n",
              "}\n",
              "\n",
              "scope.google = scope.google || {};\n",
              "scope.google.colab = scope.google.colab || {};\n",
              "scope.google.colab._files = {\n",
              "  _uploadFiles,\n",
              "  _uploadFilesContinue,\n",
              "};\n",
              "})(self);\n",
              "</script> "
            ]
          },
          "metadata": {}
        },
        {
          "output_type": "stream",
          "name": "stdout",
          "text": [
            "Saving violence_data.csv to violence_data.csv\n",
            "Saving wikipedia-iso-country-codes.csv to wikipedia-iso-country-codes.csv\n"
          ]
        }
      ]
    },
    {
      "cell_type": "code",
      "source": [
        "violence_data = pd.read_csv('/content/violence_data.csv')\n",
        "#violence_data = pd.read_csv('/content/drive/MyDrive/violence_data.csv')\n",
        "#print(violence_data[:20])\n",
        "violence_data.head()"
      ],
      "metadata": {
        "colab": {
          "base_uri": "https://localhost:8080/",
          "height": 206
        },
        "id": "I7vc2yA4FEHq",
        "outputId": "01978088-f699-4032-ad34-37e9f29d685b"
      },
      "execution_count": 2,
      "outputs": [
        {
          "output_type": "execute_result",
          "data": {
            "text/plain": [
              "   RecordID      Country Gender Demographics Question  \\\n",
              "0         1  Afghanistan      F        Marital status   \n",
              "1         1  Afghanistan      F             Education   \n",
              "2         1  Afghanistan      F             Education   \n",
              "3         1  Afghanistan      F             Education   \n",
              "4         1  Afghanistan      F        Marital status   \n",
              "\n",
              "          Demographics Response                   Question Survey Year  Value  \n",
              "0                 Never married  ... if she burns the food      1/1/15    NaN  \n",
              "1                        Higher  ... if she burns the food      1/1/15   10.1  \n",
              "2                     Secondary  ... if she burns the food      1/1/15   13.7  \n",
              "3                       Primary  ... if she burns the food      1/1/15   13.8  \n",
              "4  Widowed, divorced, separated  ... if she burns the food      1/1/15   13.8  "
            ],
            "text/html": [
              "\n",
              "  <div id=\"df-84c11d5d-92cb-49ac-82dd-555c88c48c78\">\n",
              "    <div class=\"colab-df-container\">\n",
              "      <div>\n",
              "<style scoped>\n",
              "    .dataframe tbody tr th:only-of-type {\n",
              "        vertical-align: middle;\n",
              "    }\n",
              "\n",
              "    .dataframe tbody tr th {\n",
              "        vertical-align: top;\n",
              "    }\n",
              "\n",
              "    .dataframe thead th {\n",
              "        text-align: right;\n",
              "    }\n",
              "</style>\n",
              "<table border=\"1\" class=\"dataframe\">\n",
              "  <thead>\n",
              "    <tr style=\"text-align: right;\">\n",
              "      <th></th>\n",
              "      <th>RecordID</th>\n",
              "      <th>Country</th>\n",
              "      <th>Gender</th>\n",
              "      <th>Demographics Question</th>\n",
              "      <th>Demographics Response</th>\n",
              "      <th>Question</th>\n",
              "      <th>Survey Year</th>\n",
              "      <th>Value</th>\n",
              "    </tr>\n",
              "  </thead>\n",
              "  <tbody>\n",
              "    <tr>\n",
              "      <th>0</th>\n",
              "      <td>1</td>\n",
              "      <td>Afghanistan</td>\n",
              "      <td>F</td>\n",
              "      <td>Marital status</td>\n",
              "      <td>Never married</td>\n",
              "      <td>... if she burns the food</td>\n",
              "      <td>1/1/15</td>\n",
              "      <td>NaN</td>\n",
              "    </tr>\n",
              "    <tr>\n",
              "      <th>1</th>\n",
              "      <td>1</td>\n",
              "      <td>Afghanistan</td>\n",
              "      <td>F</td>\n",
              "      <td>Education</td>\n",
              "      <td>Higher</td>\n",
              "      <td>... if she burns the food</td>\n",
              "      <td>1/1/15</td>\n",
              "      <td>10.1</td>\n",
              "    </tr>\n",
              "    <tr>\n",
              "      <th>2</th>\n",
              "      <td>1</td>\n",
              "      <td>Afghanistan</td>\n",
              "      <td>F</td>\n",
              "      <td>Education</td>\n",
              "      <td>Secondary</td>\n",
              "      <td>... if she burns the food</td>\n",
              "      <td>1/1/15</td>\n",
              "      <td>13.7</td>\n",
              "    </tr>\n",
              "    <tr>\n",
              "      <th>3</th>\n",
              "      <td>1</td>\n",
              "      <td>Afghanistan</td>\n",
              "      <td>F</td>\n",
              "      <td>Education</td>\n",
              "      <td>Primary</td>\n",
              "      <td>... if she burns the food</td>\n",
              "      <td>1/1/15</td>\n",
              "      <td>13.8</td>\n",
              "    </tr>\n",
              "    <tr>\n",
              "      <th>4</th>\n",
              "      <td>1</td>\n",
              "      <td>Afghanistan</td>\n",
              "      <td>F</td>\n",
              "      <td>Marital status</td>\n",
              "      <td>Widowed, divorced, separated</td>\n",
              "      <td>... if she burns the food</td>\n",
              "      <td>1/1/15</td>\n",
              "      <td>13.8</td>\n",
              "    </tr>\n",
              "  </tbody>\n",
              "</table>\n",
              "</div>\n",
              "      <button class=\"colab-df-convert\" onclick=\"convertToInteractive('df-84c11d5d-92cb-49ac-82dd-555c88c48c78')\"\n",
              "              title=\"Convert this dataframe to an interactive table.\"\n",
              "              style=\"display:none;\">\n",
              "        \n",
              "  <svg xmlns=\"http://www.w3.org/2000/svg\" height=\"24px\"viewBox=\"0 0 24 24\"\n",
              "       width=\"24px\">\n",
              "    <path d=\"M0 0h24v24H0V0z\" fill=\"none\"/>\n",
              "    <path d=\"M18.56 5.44l.94 2.06.94-2.06 2.06-.94-2.06-.94-.94-2.06-.94 2.06-2.06.94zm-11 1L8.5 8.5l.94-2.06 2.06-.94-2.06-.94L8.5 2.5l-.94 2.06-2.06.94zm10 10l.94 2.06.94-2.06 2.06-.94-2.06-.94-.94-2.06-.94 2.06-2.06.94z\"/><path d=\"M17.41 7.96l-1.37-1.37c-.4-.4-.92-.59-1.43-.59-.52 0-1.04.2-1.43.59L10.3 9.45l-7.72 7.72c-.78.78-.78 2.05 0 2.83L4 21.41c.39.39.9.59 1.41.59.51 0 1.02-.2 1.41-.59l7.78-7.78 2.81-2.81c.8-.78.8-2.07 0-2.86zM5.41 20L4 18.59l7.72-7.72 1.47 1.35L5.41 20z\"/>\n",
              "  </svg>\n",
              "      </button>\n",
              "      \n",
              "  <style>\n",
              "    .colab-df-container {\n",
              "      display:flex;\n",
              "      flex-wrap:wrap;\n",
              "      gap: 12px;\n",
              "    }\n",
              "\n",
              "    .colab-df-convert {\n",
              "      background-color: #E8F0FE;\n",
              "      border: none;\n",
              "      border-radius: 50%;\n",
              "      cursor: pointer;\n",
              "      display: none;\n",
              "      fill: #1967D2;\n",
              "      height: 32px;\n",
              "      padding: 0 0 0 0;\n",
              "      width: 32px;\n",
              "    }\n",
              "\n",
              "    .colab-df-convert:hover {\n",
              "      background-color: #E2EBFA;\n",
              "      box-shadow: 0px 1px 2px rgba(60, 64, 67, 0.3), 0px 1px 3px 1px rgba(60, 64, 67, 0.15);\n",
              "      fill: #174EA6;\n",
              "    }\n",
              "\n",
              "    [theme=dark] .colab-df-convert {\n",
              "      background-color: #3B4455;\n",
              "      fill: #D2E3FC;\n",
              "    }\n",
              "\n",
              "    [theme=dark] .colab-df-convert:hover {\n",
              "      background-color: #434B5C;\n",
              "      box-shadow: 0px 1px 3px 1px rgba(0, 0, 0, 0.15);\n",
              "      filter: drop-shadow(0px 1px 2px rgba(0, 0, 0, 0.3));\n",
              "      fill: #FFFFFF;\n",
              "    }\n",
              "  </style>\n",
              "\n",
              "      <script>\n",
              "        const buttonEl =\n",
              "          document.querySelector('#df-84c11d5d-92cb-49ac-82dd-555c88c48c78 button.colab-df-convert');\n",
              "        buttonEl.style.display =\n",
              "          google.colab.kernel.accessAllowed ? 'block' : 'none';\n",
              "\n",
              "        async function convertToInteractive(key) {\n",
              "          const element = document.querySelector('#df-84c11d5d-92cb-49ac-82dd-555c88c48c78');\n",
              "          const dataTable =\n",
              "            await google.colab.kernel.invokeFunction('convertToInteractive',\n",
              "                                                     [key], {});\n",
              "          if (!dataTable) return;\n",
              "\n",
              "          const docLinkHtml = 'Like what you see? Visit the ' +\n",
              "            '<a target=\"_blank\" href=https://colab.research.google.com/notebooks/data_table.ipynb>data table notebook</a>'\n",
              "            + ' to learn more about interactive tables.';\n",
              "          element.innerHTML = '';\n",
              "          dataTable['output_type'] = 'display_data';\n",
              "          await google.colab.output.renderOutput(dataTable, element);\n",
              "          const docLink = document.createElement('div');\n",
              "          docLink.innerHTML = docLinkHtml;\n",
              "          element.appendChild(docLink);\n",
              "        }\n",
              "      </script>\n",
              "    </div>\n",
              "  </div>\n",
              "  "
            ]
          },
          "metadata": {},
          "execution_count": 2
        }
      ]
    },
    {
      "cell_type": "code",
      "source": [
        "#print(violence_data[:20])\n",
        "#violence_data = violence_data.dropna(axis=0,how='any')\n",
        "#print(violence_data[:20])\n",
        "#filter = violence_data['Gender'] == 'F'\n",
        "#violence_data.where(filter, inplace=True)\n",
        "#violence_data\n"
      ],
      "metadata": {
        "id": "fj64Ot4ltCRp"
      },
      "execution_count": null,
      "outputs": []
    },
    {
      "cell_type": "code",
      "source": [
        "#females= violence_data['Gender'].tolist().count('F')\n",
        "EVEN_ROW_COLOR = \"#cfb6f0\"\n",
        "ODD_ROW_COLOR = \"#a8caed\"\n",
        "\n",
        "demographics_df = violence_data.groupby([\"Demographics Question\", \"Demographics Response\"])[\"Value\"].agg([\"median\", \"max\",\"min\", \"mean\"]).reset_index()\n",
        "demographics_df.columns = [\"Question\", \"Response\" ,\"Median\", \"Max\",\"Min\" ,\"Mean\"]\n",
        "print(\"Violence % median, max, and mean per demographic group\")\n",
        "demographics_df.sort_values([\"Question\", \"Mean\"])\n",
        "\n",
        "demographics_df\n",
        "# demographics_df.style.set_table_styles(\n",
        "#    [\n",
        "#        {\n",
        "#            'selector': 'th',\n",
        "#            'props': [('background-color', '#77d0ed')]\n",
        "#        },\n",
        "#        {\n",
        "#            'selector': 'tbody tr:nth-child(even)',\n",
        "#            'props': [('background-color', EVEN_ROW_COLOR)]\n",
        "#        },\n",
        "#      {\n",
        "#            'selector': 'tbody tr:nth-child(odd)',\n",
        "#            'props': [('background-color', ODD_ROW_COLOR)]\n",
        "#         }\n",
        "#    ]\n",
        "# )"
      ],
      "metadata": {
        "colab": {
          "base_uri": "https://localhost:8080/",
          "height": 537
        },
        "id": "iI4rZBCDteEg",
        "outputId": "3c94312a-f9c0-42f5-ffe4-160a312c467a"
      },
      "execution_count": 3,
      "outputs": [
        {
          "output_type": "stream",
          "name": "stdout",
          "text": [
            "Violence % median, max, and mean per demographic group\n"
          ]
        },
        {
          "output_type": "execute_result",
          "data": {
            "text/plain": [
              "          Question                      Response  Median   Max  Min       Mean\n",
              "0              Age                         15-24   17.50  80.1  0.1  21.084169\n",
              "1              Age                         25-34   14.45  81.5  0.1  19.703562\n",
              "2              Age                         35-49   14.15  81.0  0.2  19.336412\n",
              "3        Education                        Higher    4.20  74.6  0.0   8.898670\n",
              "4        Education                  No education   21.55  82.0  0.0  25.403125\n",
              "5        Education                       Primary   18.40  80.5  0.1  22.819093\n",
              "6        Education                     Secondary   13.05  76.7  0.2  17.378892\n",
              "7       Employment             Employed for cash   14.85  81.5  0.1  19.553804\n",
              "8       Employment             Employed for kind   20.15  86.9  0.3  24.445541\n",
              "9       Employment                    Unemployed   14.55  80.1  0.0  19.539710\n",
              "10  Marital status    Married or living together   14.80  82.1  0.2  20.181003\n",
              "11  Marital status                 Never married   14.90  72.1  0.0  18.704360\n",
              "12  Marital status  Widowed, divorced, separated   17.15  75.9  0.0  20.683511\n",
              "13       Residence                         Rural   19.00  82.1  0.2  23.294063\n",
              "14       Residence                         Urban   11.05  74.4  0.1  15.895778"
            ],
            "text/html": [
              "\n",
              "  <div id=\"df-ae05df23-7381-4078-bc20-34bbc837de71\">\n",
              "    <div class=\"colab-df-container\">\n",
              "      <div>\n",
              "<style scoped>\n",
              "    .dataframe tbody tr th:only-of-type {\n",
              "        vertical-align: middle;\n",
              "    }\n",
              "\n",
              "    .dataframe tbody tr th {\n",
              "        vertical-align: top;\n",
              "    }\n",
              "\n",
              "    .dataframe thead th {\n",
              "        text-align: right;\n",
              "    }\n",
              "</style>\n",
              "<table border=\"1\" class=\"dataframe\">\n",
              "  <thead>\n",
              "    <tr style=\"text-align: right;\">\n",
              "      <th></th>\n",
              "      <th>Question</th>\n",
              "      <th>Response</th>\n",
              "      <th>Median</th>\n",
              "      <th>Max</th>\n",
              "      <th>Min</th>\n",
              "      <th>Mean</th>\n",
              "    </tr>\n",
              "  </thead>\n",
              "  <tbody>\n",
              "    <tr>\n",
              "      <th>0</th>\n",
              "      <td>Age</td>\n",
              "      <td>15-24</td>\n",
              "      <td>17.50</td>\n",
              "      <td>80.1</td>\n",
              "      <td>0.1</td>\n",
              "      <td>21.084169</td>\n",
              "    </tr>\n",
              "    <tr>\n",
              "      <th>1</th>\n",
              "      <td>Age</td>\n",
              "      <td>25-34</td>\n",
              "      <td>14.45</td>\n",
              "      <td>81.5</td>\n",
              "      <td>0.1</td>\n",
              "      <td>19.703562</td>\n",
              "    </tr>\n",
              "    <tr>\n",
              "      <th>2</th>\n",
              "      <td>Age</td>\n",
              "      <td>35-49</td>\n",
              "      <td>14.15</td>\n",
              "      <td>81.0</td>\n",
              "      <td>0.2</td>\n",
              "      <td>19.336412</td>\n",
              "    </tr>\n",
              "    <tr>\n",
              "      <th>3</th>\n",
              "      <td>Education</td>\n",
              "      <td>Higher</td>\n",
              "      <td>4.20</td>\n",
              "      <td>74.6</td>\n",
              "      <td>0.0</td>\n",
              "      <td>8.898670</td>\n",
              "    </tr>\n",
              "    <tr>\n",
              "      <th>4</th>\n",
              "      <td>Education</td>\n",
              "      <td>No education</td>\n",
              "      <td>21.55</td>\n",
              "      <td>82.0</td>\n",
              "      <td>0.0</td>\n",
              "      <td>25.403125</td>\n",
              "    </tr>\n",
              "    <tr>\n",
              "      <th>5</th>\n",
              "      <td>Education</td>\n",
              "      <td>Primary</td>\n",
              "      <td>18.40</td>\n",
              "      <td>80.5</td>\n",
              "      <td>0.1</td>\n",
              "      <td>22.819093</td>\n",
              "    </tr>\n",
              "    <tr>\n",
              "      <th>6</th>\n",
              "      <td>Education</td>\n",
              "      <td>Secondary</td>\n",
              "      <td>13.05</td>\n",
              "      <td>76.7</td>\n",
              "      <td>0.2</td>\n",
              "      <td>17.378892</td>\n",
              "    </tr>\n",
              "    <tr>\n",
              "      <th>7</th>\n",
              "      <td>Employment</td>\n",
              "      <td>Employed for cash</td>\n",
              "      <td>14.85</td>\n",
              "      <td>81.5</td>\n",
              "      <td>0.1</td>\n",
              "      <td>19.553804</td>\n",
              "    </tr>\n",
              "    <tr>\n",
              "      <th>8</th>\n",
              "      <td>Employment</td>\n",
              "      <td>Employed for kind</td>\n",
              "      <td>20.15</td>\n",
              "      <td>86.9</td>\n",
              "      <td>0.3</td>\n",
              "      <td>24.445541</td>\n",
              "    </tr>\n",
              "    <tr>\n",
              "      <th>9</th>\n",
              "      <td>Employment</td>\n",
              "      <td>Unemployed</td>\n",
              "      <td>14.55</td>\n",
              "      <td>80.1</td>\n",
              "      <td>0.0</td>\n",
              "      <td>19.539710</td>\n",
              "    </tr>\n",
              "    <tr>\n",
              "      <th>10</th>\n",
              "      <td>Marital status</td>\n",
              "      <td>Married or living together</td>\n",
              "      <td>14.80</td>\n",
              "      <td>82.1</td>\n",
              "      <td>0.2</td>\n",
              "      <td>20.181003</td>\n",
              "    </tr>\n",
              "    <tr>\n",
              "      <th>11</th>\n",
              "      <td>Marital status</td>\n",
              "      <td>Never married</td>\n",
              "      <td>14.90</td>\n",
              "      <td>72.1</td>\n",
              "      <td>0.0</td>\n",
              "      <td>18.704360</td>\n",
              "    </tr>\n",
              "    <tr>\n",
              "      <th>12</th>\n",
              "      <td>Marital status</td>\n",
              "      <td>Widowed, divorced, separated</td>\n",
              "      <td>17.15</td>\n",
              "      <td>75.9</td>\n",
              "      <td>0.0</td>\n",
              "      <td>20.683511</td>\n",
              "    </tr>\n",
              "    <tr>\n",
              "      <th>13</th>\n",
              "      <td>Residence</td>\n",
              "      <td>Rural</td>\n",
              "      <td>19.00</td>\n",
              "      <td>82.1</td>\n",
              "      <td>0.2</td>\n",
              "      <td>23.294063</td>\n",
              "    </tr>\n",
              "    <tr>\n",
              "      <th>14</th>\n",
              "      <td>Residence</td>\n",
              "      <td>Urban</td>\n",
              "      <td>11.05</td>\n",
              "      <td>74.4</td>\n",
              "      <td>0.1</td>\n",
              "      <td>15.895778</td>\n",
              "    </tr>\n",
              "  </tbody>\n",
              "</table>\n",
              "</div>\n",
              "      <button class=\"colab-df-convert\" onclick=\"convertToInteractive('df-ae05df23-7381-4078-bc20-34bbc837de71')\"\n",
              "              title=\"Convert this dataframe to an interactive table.\"\n",
              "              style=\"display:none;\">\n",
              "        \n",
              "  <svg xmlns=\"http://www.w3.org/2000/svg\" height=\"24px\"viewBox=\"0 0 24 24\"\n",
              "       width=\"24px\">\n",
              "    <path d=\"M0 0h24v24H0V0z\" fill=\"none\"/>\n",
              "    <path d=\"M18.56 5.44l.94 2.06.94-2.06 2.06-.94-2.06-.94-.94-2.06-.94 2.06-2.06.94zm-11 1L8.5 8.5l.94-2.06 2.06-.94-2.06-.94L8.5 2.5l-.94 2.06-2.06.94zm10 10l.94 2.06.94-2.06 2.06-.94-2.06-.94-.94-2.06-.94 2.06-2.06.94z\"/><path d=\"M17.41 7.96l-1.37-1.37c-.4-.4-.92-.59-1.43-.59-.52 0-1.04.2-1.43.59L10.3 9.45l-7.72 7.72c-.78.78-.78 2.05 0 2.83L4 21.41c.39.39.9.59 1.41.59.51 0 1.02-.2 1.41-.59l7.78-7.78 2.81-2.81c.8-.78.8-2.07 0-2.86zM5.41 20L4 18.59l7.72-7.72 1.47 1.35L5.41 20z\"/>\n",
              "  </svg>\n",
              "      </button>\n",
              "      \n",
              "  <style>\n",
              "    .colab-df-container {\n",
              "      display:flex;\n",
              "      flex-wrap:wrap;\n",
              "      gap: 12px;\n",
              "    }\n",
              "\n",
              "    .colab-df-convert {\n",
              "      background-color: #E8F0FE;\n",
              "      border: none;\n",
              "      border-radius: 50%;\n",
              "      cursor: pointer;\n",
              "      display: none;\n",
              "      fill: #1967D2;\n",
              "      height: 32px;\n",
              "      padding: 0 0 0 0;\n",
              "      width: 32px;\n",
              "    }\n",
              "\n",
              "    .colab-df-convert:hover {\n",
              "      background-color: #E2EBFA;\n",
              "      box-shadow: 0px 1px 2px rgba(60, 64, 67, 0.3), 0px 1px 3px 1px rgba(60, 64, 67, 0.15);\n",
              "      fill: #174EA6;\n",
              "    }\n",
              "\n",
              "    [theme=dark] .colab-df-convert {\n",
              "      background-color: #3B4455;\n",
              "      fill: #D2E3FC;\n",
              "    }\n",
              "\n",
              "    [theme=dark] .colab-df-convert:hover {\n",
              "      background-color: #434B5C;\n",
              "      box-shadow: 0px 1px 3px 1px rgba(0, 0, 0, 0.15);\n",
              "      filter: drop-shadow(0px 1px 2px rgba(0, 0, 0, 0.3));\n",
              "      fill: #FFFFFF;\n",
              "    }\n",
              "  </style>\n",
              "\n",
              "      <script>\n",
              "        const buttonEl =\n",
              "          document.querySelector('#df-ae05df23-7381-4078-bc20-34bbc837de71 button.colab-df-convert');\n",
              "        buttonEl.style.display =\n",
              "          google.colab.kernel.accessAllowed ? 'block' : 'none';\n",
              "\n",
              "        async function convertToInteractive(key) {\n",
              "          const element = document.querySelector('#df-ae05df23-7381-4078-bc20-34bbc837de71');\n",
              "          const dataTable =\n",
              "            await google.colab.kernel.invokeFunction('convertToInteractive',\n",
              "                                                     [key], {});\n",
              "          if (!dataTable) return;\n",
              "\n",
              "          const docLinkHtml = 'Like what you see? Visit the ' +\n",
              "            '<a target=\"_blank\" href=https://colab.research.google.com/notebooks/data_table.ipynb>data table notebook</a>'\n",
              "            + ' to learn more about interactive tables.';\n",
              "          element.innerHTML = '';\n",
              "          dataTable['output_type'] = 'display_data';\n",
              "          await google.colab.output.renderOutput(dataTable, element);\n",
              "          const docLink = document.createElement('div');\n",
              "          docLink.innerHTML = docLinkHtml;\n",
              "          element.appendChild(docLink);\n",
              "        }\n",
              "      </script>\n",
              "    </div>\n",
              "  </div>\n",
              "  "
            ]
          },
          "metadata": {},
          "execution_count": 3
        }
      ]
    },
    {
      "cell_type": "code",
      "source": [
        "demoq_df = violence_data.groupby([\"Demographics Question\", \"Demographics Response\", \"Question\"])[\"Value\"].agg([\"median\", \"max\", \"min\", \"mean\"]).reset_index()\n",
        "demoq_df.columns = [\"Demographics Question\", \"Demographics Response\", \"Question\", \"Median\", \"Max\", \"Min\", \"Mean\"]\n",
        "print(\"Violence % median, min, max, and mean per demographic group and question asked\")\n",
        "demoq_df = demoq_df.sort_values([\"Demographics Question\", \"Demographics Response\", \"Median\"])\n",
        "#demoq_df[:20]"
      ],
      "metadata": {
        "id": "ZHat8-icLtEC",
        "colab": {
          "base_uri": "https://localhost:8080/"
        },
        "outputId": "eb519763-7daa-48c7-b060-5e32726ffe89"
      },
      "execution_count": 4,
      "outputs": [
        {
          "output_type": "stream",
          "name": "stdout",
          "text": [
            "Violence % median, min, max, and mean per demographic group and question asked\n"
          ]
        }
      ]
    },
    {
      "cell_type": "code",
      "source": [
        "demographics_df = violence_data.groupby([\"Demographics Question\", \"Demographics Response\", \"Question\"])[\"Value\"].agg([\"mean\"]).reset_index()\n",
        "filter = demographics_df[\"Demographics Question\"] == \"Age\"\n",
        "demographics_df.where(filter, inplace=True)\n",
        "demographics_df = demographics_df.dropna()\n",
        "demographics_df.drop(\"Demographics Question\", inplace=True, axis=1)\n",
        "demographics_df.sort_values([\"Question\", \"Demographics Response\"])\n",
        "df = pd.DataFrame({\n",
        "  '15-24': (demographics_df.loc[demographics_df[\"Demographics Response\"] == \"15-24\"])[\"mean\"].tolist(),\n",
        "  '25-34': (demographics_df.loc[demographics_df[\"Demographics Response\"] == \"25-34\"])[\"mean\"].tolist(),\n",
        "  '35-49': (demographics_df.loc[demographics_df[\"Demographics Response\"] == \"35-49\"])[\"mean\"].tolist(),\n",
        "  'Question': demographics_df[\"Question\"].unique()\n",
        "})\n",
        "\n",
        "ax=df.plot(x=\"Question\", rot=360, kind='barh',colormap='Oranges')\n",
        "ax.set_xlabel(\"Mean\")\n",
        "\n",
        "print(df)\n"
      ],
      "metadata": {
        "colab": {
          "base_uri": "https://localhost:8080/",
          "height": 401
        },
        "id": "ZqXD-w6aybfT",
        "outputId": "119299ab-01f8-4f3b-959b-51ba53777e78"
      },
      "execution_count": 5,
      "outputs": [
        {
          "output_type": "stream",
          "name": "stdout",
          "text": [
            "       15-24      25-34      35-49                                 Question\n",
            "0  35.877344  32.903906  31.810938     ... for at least one specific reason\n",
            "1  20.304032  18.932258  18.691935               ... if she argues with him\n",
            "2  10.098387   8.885484   8.856452                ... if she burns the food\n",
            "3  21.026563  20.360156  20.131250  ... if she goes out without telling him\n",
            "4  25.306250  23.267969  22.346094         ... if she neglects the children\n",
            "5  13.404762  13.411111  13.746825  ... if she refuses to have sex with him\n"
          ]
        },
        {
          "output_type": "display_data",
          "data": {
            "text/plain": [
              "<Figure size 432x288 with 1 Axes>"
            ],
            "image/png": "[encoded data removed]"
          },
          "metadata": {
            "needs_background": "light"
          }
        }
      ]
    },
    {
      "cell_type": "code",
      "source": [
        "demographics_df = violence_data.groupby([\"Gender\", \"Question\"])[\"Value\"].agg([\"mean\"]).reset_index()\n",
        "demographics_df\n",
        "demographics_df.sort_values([\"Question\", \"Gender\"])\n",
        "\n",
        "\n",
        "df = pd.DataFrame({\n",
        "    'F': (demographics_df.loc[demographics_df[\"Gender\"] == \"F\"])[\"mean\"].tolist(),\n",
        "    'M': (demographics_df.loc[demographics_df[\"Gender\"] == \"M\"])[\"mean\"].tolist(),\n",
        "    'Question': demographics_df[\"Question\"].unique()\n",
        "})\n",
        "df\n",
        "ax=df.plot(x=\"Question\",rot=360, kind='barh',fontsize = 11, colormap='cool', stacked=True)\n",
        "ax.set_xlabel(\"Mean\")\n",
        "print(df)\n"
      ],
      "metadata": {
        "colab": {
          "base_uri": "https://localhost:8080/",
          "height": 401
        },
        "id": "NhhvKMw93n8c",
        "outputId": "12719a09-40c2-4664-f5bb-814644fef1f8"
      },
      "execution_count": 6,
      "outputs": [
        {
          "output_type": "stream",
          "name": "stdout",
          "text": [
            "           F          M                                 Question\n",
            "0  36.680116  29.011254     ... for at least one specific reason\n",
            "1  21.619284  15.761968               ... if she argues with him\n",
            "2  11.683400   6.172053                ... if she burns the food\n",
            "3  23.515541  15.832825  ... if she goes out without telling him\n",
            "4  26.855695  19.338570         ... if she neglects the children\n",
            "5  16.823363   8.803337  ... if she refuses to have sex with him\n"
          ]
        },
        {
          "output_type": "display_data",
          "data": {
            "text/plain": [
              "<Figure size 432x288 with 1 Axes>"
            ],
            "image/png": "[encoded data removed]"
          },
          "metadata": {
            "needs_background": "light"
          }
        }
      ]
    },
    {
      "cell_type": "code",
      "source": [
        "demographics_df = violence_data.groupby([\"Demographics Question\", \"Demographics Response\", \"Question\"])[\"Value\"].agg([\"mean\"]).reset_index()\n",
        "filter = demographics_df[\"Demographics Question\"] == \"Education\"\n",
        "demographics_df.where(filter, inplace=True)\n",
        "demographics_df = demographics_df.dropna()\n",
        "demographics_df.drop(\"Demographics Question\", inplace=True, axis=1)\n",
        "demographics_df.sort_values([\"Question\", \"Demographics Response\"])\n",
        "\n",
        "\n",
        "df = pd.DataFrame({\n",
        "    'Higher': (demographics_df.loc[demographics_df[\"Demographics Response\"] == \"Higher\"])[\"mean\"].tolist(),\n",
        "    'Secondary': (demographics_df.loc[demographics_df[\"Demographics Response\"] == \"Secondary\"])[\"mean\"].tolist(),\n",
        "    'Primary': (demographics_df.loc[demographics_df[\"Demographics Response\"] == \"Primary\"])[\"mean\"].tolist(),\n",
        "    'No education': (demographics_df.loc[demographics_df[\"Demographics Response\"] == \"No education\"])[\"mean\"].tolist(),\n",
        "    'Question': demographics_df[\"Question\"].unique()\n",
        "})\n",
        "\n",
        "df.plot.area(x=\"Question\",ylabel=\"Mean\",rot=90, fontsize = 12,figsize=[7,6], colormap='Wistia')\n",
        "print(df)"
      ],
      "metadata": {
        "id": "H1NwDJ6Z8Lxl",
        "colab": {
          "base_uri": "https://localhost:8080/",
          "height": 864
        },
        "outputId": "4fb16f49-fa1b-4ca1-f504-67d108feac34"
      },
      "execution_count": 8,
      "outputs": [
        {
          "output_type": "stream",
          "name": "stdout",
          "text": [
            "      Higher  Secondary    Primary  No education  \\\n",
            "0  17.473228  30.941406  37.675610     39.819328   \n",
            "1   7.912195  16.407258  21.924370     24.899130   \n",
            "2   2.817073   7.238710  11.256303     13.211304   \n",
            "3   8.687402  17.394531  23.387805     26.213445   \n",
            "4  11.663780  21.785937  26.391870     28.228571   \n",
            "5   4.547200  10.043651  15.758678     19.521368   \n",
            "\n",
            "                                  Question  \n",
            "0     ... for at least one specific reason  \n",
            "1               ... if she argues with him  \n",
            "2                ... if she burns the food  \n",
            "3  ... if she goes out without telling him  \n",
            "4         ... if she neglects the children  \n",
            "5  ... if she refuses to have sex with him  \n"
          ]
        },
        {
          "output_type": "display_data",
          "data": {
            "text/plain": [
              "<Figure size 504x432 with 1 Axes>"
            ],
            "image/png": "[encoded data removed]"
          },
          "metadata": {
            "needs_background": "light"
          }
        }
      ]
    },
    {
      "cell_type": "code",
      "source": [
        "demographics_df = violence_data.groupby([\"Demographics Question\", \"Demographics Response\",\"Gender\"])[\"Value\"].agg([\"mean\"]).reset_index()\n",
        "filter = demographics_df[\"Demographics Question\"] == \"Education\"\n",
        "demographics_df.where(filter, inplace=True)\n",
        "demographics_df = demographics_df.dropna()\n",
        "demographics_df.drop(\"Demographics Question\", inplace=True, axis=1)\n",
        "demographics_df.sort_values([\"Gender\", \"Demographics Response\"])\n",
        "\n",
        "\n",
        "df = pd.DataFrame({\n",
        "    'Higher': (demographics_df.loc[demographics_df[\"Demographics Response\"] == \"Higher\"])[\"mean\"].tolist(),\n",
        "    'Secondary': (demographics_df.loc[demographics_df[\"Demographics Response\"] == \"Secondary\"])[\"mean\"].tolist(),\n",
        "    'Primary': (demographics_df.loc[demographics_df[\"Demographics Response\"] == \"Primary\"])[\"mean\"].tolist(),\n",
        "    'No education': (demographics_df.loc[demographics_df[\"Demographics Response\"] == \"No education\"])[\"mean\"].tolist(),\n",
        "    #'Gender': demographics_df[\"Gender\"].unique()\n",
        "})\n",
        "df_transpose = df.T\n",
        "df_transpose.plot(ylabel=\"Mean\",rot=90, fontsize = 12, colormap='spring', kind='bar', stacked=True,)\n",
        "plt.legend([\"Female\", \"Male\"]);\n",
        "print(df_transpose)"
      ],
      "metadata": {
        "colab": {
          "base_uri": "https://localhost:8080/",
          "height": 422
        },
        "id": "qGeItZkybHh7",
        "outputId": "543279ba-d896-44e5-cd89-60e8e5876f11"
      },
      "execution_count": 9,
      "outputs": [
        {
          "output_type": "stream",
          "name": "stdout",
          "text": [
            "                      0          1\n",
            "Higher         9.527628   8.148688\n",
            "Secondary     19.399518  14.934111\n",
            "Primary       26.699022  17.844514\n",
            "No education  30.438619  19.112780\n"
          ]
        },
        {
          "output_type": "display_data",
          "data": {
            "text/plain": [
              "<Figure size 432x288 with 1 Axes>"
            ],
            "image/png": "[encoded data removed]"
          },
          "metadata": {
            "needs_background": "light"
          }
        }
      ]
    },
    {
      "cell_type": "code",
      "source": [
        "gb = violence_data.groupby('Demographics Question')\n",
        "residence = gb.get_group('Residence')\n",
        "residence\n",
        "# res_groupby = residence.groupby('Demographics Response')\n",
        "# res_groupby.get_group('Rural')\n",
        "\n",
        "# eb = violence_data.groupby('Demographics Question')\n",
        "# education = eb.get_group('Education')\n",
        "# ed_groupby = education.groupby('Demographics Response')\n",
        "# ed_groupby.get_group('Higher')"
      ],
      "metadata": {
        "colab": {
          "base_uri": "https://localhost:8080/",
          "height": 424
        },
        "id": "8pgduWiIdejM",
        "outputId": "e5dce72c-834c-4e36-e7d6-9f331dba2e7f"
      },
      "execution_count": 10,
      "outputs": [
        {
          "output_type": "execute_result",
          "data": {
            "text/plain": [
              "       RecordID      Country Gender Demographics Question  \\\n",
              "8             1  Afghanistan      F             Residence   \n",
              "11            1  Afghanistan      F             Residence   \n",
              "17            1  Afghanistan      M             Residence   \n",
              "27            1  Afghanistan      M             Residence   \n",
              "95          351  Afghanistan      F             Residence   \n",
              "...         ...          ...    ...                   ...   \n",
              "12595       210     Zimbabwe      M             Residence   \n",
              "12596       280     Zimbabwe      M             Residence   \n",
              "12597       280     Zimbabwe      M             Residence   \n",
              "12598       350     Zimbabwe      M             Residence   \n",
              "12599       350     Zimbabwe      M             Residence   \n",
              "\n",
              "      Demographics Response                                 Question  \\\n",
              "8                     Rural                ... if she burns the food   \n",
              "11                    Urban                ... if she burns the food   \n",
              "17                    Urban                ... if she burns the food   \n",
              "27                    Rural                ... if she burns the food   \n",
              "95                    Rural     ... for at least one specific reason   \n",
              "...                     ...                                      ...   \n",
              "12595                 Urban  ... if she goes out without telling him   \n",
              "12596                 Rural         ... if she neglects the children   \n",
              "12597                 Urban         ... if she neglects the children   \n",
              "12598                 Rural  ... if she refuses to have sex with him   \n",
              "12599                 Urban  ... if she refuses to have sex with him   \n",
              "\n",
              "      Survey Year  Value  \n",
              "8          1/1/15   18.1  \n",
              "11         1/1/15   18.3  \n",
              "17         1/1/15    4.6  \n",
              "27         1/1/15    9.7  \n",
              "95         1/1/15   82.1  \n",
              "...           ...    ...  \n",
              "12595      1/1/15   11.8  \n",
              "12596      1/1/15   20.1  \n",
              "12597      1/1/15   15.0  \n",
              "12598      1/1/15    7.2  \n",
              "12599      1/1/15    3.7  \n",
              "\n",
              "[1680 rows x 8 columns]"
            ],
            "text/html": [
              "\n",
              "  <div id=\"df-3e2d03fb-7860-4a52-ad1c-4deb048073a6\">\n",
              "    <div class=\"colab-df-container\">\n",
              "      <div>\n",
              "<style scoped>\n",
              "    .dataframe tbody tr th:only-of-type {\n",
              "        vertical-align: middle;\n",
              "    }\n",
              "\n",
              "    .dataframe tbody tr th {\n",
              "        vertical-align: top;\n",
              "    }\n",
              "\n",
              "    .dataframe thead th {\n",
              "        text-align: right;\n",
              "    }\n",
              "</style>\n",
              "<table border=\"1\" class=\"dataframe\">\n",
              "  <thead>\n",
              "    <tr style=\"text-align: right;\">\n",
              "      <th></th>\n",
              "      <th>RecordID</th>\n",
              "      <th>Country</th>\n",
              "      <th>Gender</th>\n",
              "      <th>Demographics Question</th>\n",
              "      <th>Demographics Response</th>\n",
              "      <th>Question</th>\n",
              "      <th>Survey Year</th>\n",
              "      <th>Value</th>\n",
              "    </tr>\n",
              "  </thead>\n",
              "  <tbody>\n",
              "    <tr>\n",
              "      <th>8</th>\n",
              "      <td>1</td>\n",
              "      <td>Afghanistan</td>\n",
              "      <td>F</td>\n",
              "      <td>Residence</td>\n",
              "      <td>Rural</td>\n",
              "      <td>... if she burns the food</td>\n",
              "      <td>1/1/15</td>\n",
              "      <td>18.1</td>\n",
              "    </tr>\n",
              "    <tr>\n",
              "      <th>11</th>\n",
              "      <td>1</td>\n",
              "      <td>Afghanistan</td>\n",
              "      <td>F</td>\n",
              "      <td>Residence</td>\n",
              "      <td>Urban</td>\n",
              "      <td>... if she burns the food</td>\n",
              "      <td>1/1/15</td>\n",
              "      <td>18.3</td>\n",
              "    </tr>\n",
              "    <tr>\n",
              "      <th>17</th>\n",
              "      <td>1</td>\n",
              "      <td>Afghanistan</td>\n",
              "      <td>M</td>\n",
              "      <td>Residence</td>\n",
              "      <td>Urban</td>\n",
              "      <td>... if she burns the food</td>\n",
              "      <td>1/1/15</td>\n",
              "      <td>4.6</td>\n",
              "    </tr>\n",
              "    <tr>\n",
              "      <th>27</th>\n",
              "      <td>1</td>\n",
              "      <td>Afghanistan</td>\n",
              "      <td>M</td>\n",
              "      <td>Residence</td>\n",
              "      <td>Rural</td>\n",
              "      <td>... if she burns the food</td>\n",
              "      <td>1/1/15</td>\n",
              "      <td>9.7</td>\n",
              "    </tr>\n",
              "    <tr>\n",
              "      <th>95</th>\n",
              "      <td>351</td>\n",
              "      <td>Afghanistan</td>\n",
              "      <td>F</td>\n",
              "      <td>Residence</td>\n",
              "      <td>Rural</td>\n",
              "      <td>... for at least one specific reason</td>\n",
              "      <td>1/1/15</td>\n",
              "      <td>82.1</td>\n",
              "    </tr>\n",
              "    <tr>\n",
              "      <th>...</th>\n",
              "      <td>...</td>\n",
              "      <td>...</td>\n",
              "      <td>...</td>\n",
              "      <td>...</td>\n",
              "      <td>...</td>\n",
              "      <td>...</td>\n",
              "      <td>...</td>\n",
              "      <td>...</td>\n",
              "    </tr>\n",
              "    <tr>\n",
              "      <th>12595</th>\n",
              "      <td>210</td>\n",
              "      <td>Zimbabwe</td>\n",
              "      <td>M</td>\n",
              "      <td>Residence</td>\n",
              "      <td>Urban</td>\n",
              "      <td>... if she goes out without telling him</td>\n",
              "      <td>1/1/15</td>\n",
              "      <td>11.8</td>\n",
              "    </tr>\n",
              "    <tr>\n",
              "      <th>12596</th>\n",
              "      <td>280</td>\n",
              "      <td>Zimbabwe</td>\n",
              "      <td>M</td>\n",
              "      <td>Residence</td>\n",
              "      <td>Rural</td>\n",
              "      <td>... if she neglects the children</td>\n",
              "      <td>1/1/15</td>\n",
              "      <td>20.1</td>\n",
              "    </tr>\n",
              "    <tr>\n",
              "      <th>12597</th>\n",
              "      <td>280</td>\n",
              "      <td>Zimbabwe</td>\n",
              "      <td>M</td>\n",
              "      <td>Residence</td>\n",
              "      <td>Urban</td>\n",
              "      <td>... if she neglects the children</td>\n",
              "      <td>1/1/15</td>\n",
              "      <td>15.0</td>\n",
              "    </tr>\n",
              "    <tr>\n",
              "      <th>12598</th>\n",
              "      <td>350</td>\n",
              "      <td>Zimbabwe</td>\n",
              "      <td>M</td>\n",
              "      <td>Residence</td>\n",
              "      <td>Rural</td>\n",
              "      <td>... if she refuses to have sex with him</td>\n",
              "      <td>1/1/15</td>\n",
              "      <td>7.2</td>\n",
              "    </tr>\n",
              "    <tr>\n",
              "      <th>12599</th>\n",
              "      <td>350</td>\n",
              "      <td>Zimbabwe</td>\n",
              "      <td>M</td>\n",
              "      <td>Residence</td>\n",
              "      <td>Urban</td>\n",
              "      <td>... if she refuses to have sex with him</td>\n",
              "      <td>1/1/15</td>\n",
              "      <td>3.7</td>\n",
              "    </tr>\n",
              "  </tbody>\n",
              "</table>\n",
              "<p>1680 rows × 8 columns</p>\n",
              "</div>\n",
              "      <button class=\"colab-df-convert\" onclick=\"convertToInteractive('df-3e2d03fb-7860-4a52-ad1c-4deb048073a6')\"\n",
              "              title=\"Convert this dataframe to an interactive table.\"\n",
              "              style=\"display:none;\">\n",
              "        \n",
              "  <svg xmlns=\"http://www.w3.org/2000/svg\" height=\"24px\"viewBox=\"0 0 24 24\"\n",
              "       width=\"24px\">\n",
              "    <path d=\"M0 0h24v24H0V0z\" fill=\"none\"/>\n",
              "    <path d=\"M18.56 5.44l.94 2.06.94-2.06 2.06-.94-2.06-.94-.94-2.06-.94 2.06-2.06.94zm-11 1L8.5 8.5l.94-2.06 2.06-.94-2.06-.94L8.5 2.5l-.94 2.06-2.06.94zm10 10l.94 2.06.94-2.06 2.06-.94-2.06-.94-.94-2.06-.94 2.06-2.06.94z\"/><path d=\"M17.41 7.96l-1.37-1.37c-.4-.4-.92-.59-1.43-.59-.52 0-1.04.2-1.43.59L10.3 9.45l-7.72 7.72c-.78.78-.78 2.05 0 2.83L4 21.41c.39.39.9.59 1.41.59.51 0 1.02-.2 1.41-.59l7.78-7.78 2.81-2.81c.8-.78.8-2.07 0-2.86zM5.41 20L4 18.59l7.72-7.72 1.47 1.35L5.41 20z\"/>\n",
              "  </svg>\n",
              "      </button>\n",
              "      \n",
              "  <style>\n",
              "    .colab-df-container {\n",
              "      display:flex;\n",
              "      flex-wrap:wrap;\n",
              "      gap: 12px;\n",
              "    }\n",
              "\n",
              "    .colab-df-convert {\n",
              "      background-color: #E8F0FE;\n",
              "      border: none;\n",
              "      border-radius: 50%;\n",
              "      cursor: pointer;\n",
              "      display: none;\n",
              "      fill: #1967D2;\n",
              "      height: 32px;\n",
              "      padding: 0 0 0 0;\n",
              "      width: 32px;\n",
              "    }\n",
              "\n",
              "    .colab-df-convert:hover {\n",
              "      background-color: #E2EBFA;\n",
              "      box-shadow: 0px 1px 2px rgba(60, 64, 67, 0.3), 0px 1px 3px 1px rgba(60, 64, 67, 0.15);\n",
              "      fill: #174EA6;\n",
              "    }\n",
              "\n",
              "    [theme=dark] .colab-df-convert {\n",
              "      background-color: #3B4455;\n",
              "      fill: #D2E3FC;\n",
              "    }\n",
              "\n",
              "    [theme=dark] .colab-df-convert:hover {\n",
              "      background-color: #434B5C;\n",
              "      box-shadow: 0px 1px 3px 1px rgba(0, 0, 0, 0.15);\n",
              "      filter: drop-shadow(0px 1px 2px rgba(0, 0, 0, 0.3));\n",
              "      fill: #FFFFFF;\n",
              "    }\n",
              "  </style>\n",
              "\n",
              "      <script>\n",
              "        const buttonEl =\n",
              "          document.querySelector('#df-3e2d03fb-7860-4a52-ad1c-4deb048073a6 button.colab-df-convert');\n",
              "        buttonEl.style.display =\n",
              "          google.colab.kernel.accessAllowed ? 'block' : 'none';\n",
              "\n",
              "        async function convertToInteractive(key) {\n",
              "          const element = document.querySelector('#df-3e2d03fb-7860-4a52-ad1c-4deb048073a6');\n",
              "          const dataTable =\n",
              "            await google.colab.kernel.invokeFunction('convertToInteractive',\n",
              "                                                     [key], {});\n",
              "          if (!dataTable) return;\n",
              "\n",
              "          const docLinkHtml = 'Like what you see? Visit the ' +\n",
              "            '<a target=\"_blank\" href=https://colab.research.google.com/notebooks/data_table.ipynb>data table notebook</a>'\n",
              "            + ' to learn more about interactive tables.';\n",
              "          element.innerHTML = '';\n",
              "          dataTable['output_type'] = 'display_data';\n",
              "          await google.colab.output.renderOutput(dataTable, element);\n",
              "          const docLink = document.createElement('div');\n",
              "          docLink.innerHTML = docLinkHtml;\n",
              "          element.appendChild(docLink);\n",
              "        }\n",
              "      </script>\n",
              "    </div>\n",
              "  </div>\n",
              "  "
            ]
          },
          "metadata": {},
          "execution_count": 10
        }
      ]
    },
    {
      "cell_type": "code",
      "source": [
        "#demographics_df = violence_data.groupby([\"Demo])[\"Value\"].agg([\"mean\"]).reset_index()\n",
        "violence_data['Survey Year'] = pd.to_datetime(violence_data['Survey Year'])\n",
        "\n",
        "df_mean = violence_data.groupby([violence_data['Survey Year'].dt.year])['Value'].median().reset_index()\n",
        "#print(df_mean)\n",
        "\n",
        "# xticks = df_mean['Survey Year'].tolist()\n",
        "# xticks_short = [v for i, v in enumerate(xticks) if i % 5 == 0]\n",
        "\n",
        "# for country in df_mean['Country'].unique():\n",
        "#   print(df_mean.loc[df_mean[\"Country\"] == country])\n",
        "print(df_mean)\n",
        "\n",
        "df_mean.plot(x='Survey Year', kind='bar',rot=90,fontsize = 12, colormap='Wistia')\n",
        "\n",
        "# ax.set_xticks(range(0, 20, 2))\n",
        "# ax.set_xticklabels(range(2000, 2020, 2))\n",
        "\n"
      ],
      "metadata": {
        "id": "fMk-qX608rMp",
        "colab": {
          "base_uri": "https://localhost:8080/",
          "height": 647
        },
        "outputId": "68db44aa-69bf-43ed-d760-013150422fdf"
      },
      "execution_count": 11,
      "outputs": [
        {
          "output_type": "stream",
          "name": "stdout",
          "text": [
            "    Survey Year  Value\n",
            "0          2000  36.30\n",
            "1          2001   5.40\n",
            "2          2002  48.70\n",
            "3          2003  48.90\n",
            "4          2005   7.75\n",
            "5          2006  16.70\n",
            "6          2007   2.35\n",
            "7          2008   9.45\n",
            "8          2009   6.80\n",
            "9          2010  19.65\n",
            "10         2011  18.20\n",
            "11         2012  15.25\n",
            "12         2013  17.20\n",
            "13         2014  15.25\n",
            "14         2015  11.70\n",
            "15         2016  14.90\n",
            "16         2017  13.20\n",
            "17         2018  41.50\n"
          ]
        },
        {
          "output_type": "execute_result",
          "data": {
            "text/plain": [
              "<matplotlib.axes._subplots.AxesSubplot at 0x7f2e5138b340>"
            ]
          },
          "metadata": {},
          "execution_count": 11
        },
        {
          "output_type": "display_data",
          "data": {
            "text/plain": [
              "<Figure size 432x288 with 1 Axes>"
            ],
            "image/png": "[encoded data removed]"
          },
          "metadata": {
            "needs_background": "light"
          }
        }
      ]
    },
    {
      "cell_type": "code",
      "source": [
        "demographics_df = violence_data.groupby([\"Demographics Question\", \"Demographics Response\", \"Question\"])[\"Value\"].agg([\"mean\"]).reset_index()\n",
        "filter = demographics_df[\"Demographics Question\"] == \"Employment\"\n",
        "demographics_df.where(filter, inplace=True)\n",
        "demographics_df = demographics_df.dropna()\n",
        "demographics_df.drop(\"Demographics Question\", inplace=True, axis=1)\n",
        "demographics_df.sort_values([\"Question\", \"Demographics Response\"])\n",
        "\n",
        "\n",
        "df = pd.DataFrame({\n",
        "    'Unemployed': (demographics_df.loc[demographics_df[\"Demographics Response\"] == \"Unemployed\"])[\"mean\"].tolist(),\n",
        "    'Employed for cash': (demographics_df.loc[demographics_df[\"Demographics Response\"] == \"Employed for cash\"])[\"mean\"].tolist(),\n",
        "    'Employed for kind': (demographics_df.loc[demographics_df[\"Demographics Response\"] == \"Employed for kind\"])[\"mean\"].tolist(),\n",
        "    'Question': demographics_df[\"Question\"].unique()\n",
        "})\n",
        "\n",
        "df.plot.area(x=\"Question\",ylabel=\"Mean\",rot=90,colormap='GnBu',fontsize = 11)\n",
        "print(df)"
      ],
      "metadata": {
        "colab": {
          "base_uri": "https://localhost:8080/",
          "height": 736
        },
        "id": "trpiIesIwzjx",
        "outputId": "3f85035c-0b10-436c-a935-5cb1cbc1c41e"
      },
      "execution_count": 12,
      "outputs": [
        {
          "output_type": "stream",
          "name": "stdout",
          "text": [
            "   Unemployed  Employed for cash  Employed for kind  \\\n",
            "0   33.146875          32.908065          39.933600   \n",
            "1   18.735484          18.808333          23.684298   \n",
            "2    9.135484           8.860000          12.284298   \n",
            "3   19.493750          20.008871          24.720000   \n",
            "4   23.407812          23.323387          28.506400   \n",
            "5   12.864286          13.045161          17.012195   \n",
            "\n",
            "                                  Question  \n",
            "0     ... for at least one specific reason  \n",
            "1               ... if she argues with him  \n",
            "2                ... if she burns the food  \n",
            "3  ... if she goes out without telling him  \n",
            "4         ... if she neglects the children  \n",
            "5  ... if she refuses to have sex with him  \n"
          ]
        },
        {
          "output_type": "display_data",
          "data": {
            "text/plain": [
              "<Figure size 432x288 with 1 Axes>"
            ],
            "image/png": "[encoded data removed]"
          },
          "metadata": {
            "needs_background": "light"
          }
        }
      ]
    },
    {
      "cell_type": "code",
      "source": [
        "demographics_df = violence_data.groupby([\"Demographics Question\", \"Demographics Response\", \"Question\"])[\"Value\"].agg([\"mean\"]).reset_index()\n",
        "filter = demographics_df[\"Demographics Question\"] == \"Marital status\"\n",
        "demographics_df.where(filter, inplace=True)\n",
        "demographics_df = demographics_df.dropna()\n",
        "demographics_df.drop(\"Demographics Question\", inplace=True, axis=1)\n",
        "demographics_df.sort_values([\"Question\", \"Demographics Response\"])\n",
        "\n",
        "\n",
        "df = pd.DataFrame({\n",
        "    'Married or living together': (demographics_df.loc[demographics_df[\"Demographics Response\"] == \"Married or living together\"])[\"mean\"].tolist(),\n",
        "    'Never married': (demographics_df.loc[demographics_df[\"Demographics Response\"] == \"Never married\"])[\"mean\"].tolist(),\n",
        "    'Widowed, divorced, separated': (demographics_df.loc[demographics_df[\"Demographics Response\"] == \"Widowed, divorced, separated\"])[\"mean\"].tolist(),\n",
        "    'Question': demographics_df[\"Question\"].unique()\n",
        "})\n",
        "\n",
        "df.plot(x=\"Question\",ylabel=\"Mean\",rot=90,colormap='flare',fontsize = 11, kind=\"bar\",stacked=True)"
      ],
      "metadata": {
        "colab": {
          "base_uri": "https://localhost:8080/",
          "height": 493
        },
        "id": "g1f0gwQ2DNWD",
        "outputId": "c849a6c8-fc5c-4a80-a65b-469f1be6c709"
      },
      "execution_count": 13,
      "outputs": [
        {
          "output_type": "execute_result",
          "data": {
            "text/plain": [
              "<matplotlib.axes._subplots.AxesSubplot at 0x7f2e50b9a310>"
            ]
          },
          "metadata": {},
          "execution_count": 13
        },
        {
          "output_type": "display_data",
          "data": {
            "text/plain": [
              "<Figure size 432x288 with 1 Axes>"
            ],
            "image/png": "[encoded data removed]"
          },
          "metadata": {
            "needs_background": "light"
          }
        }
      ]
    },
    {
      "cell_type": "code",
      "source": [
        "demographics_df = violence_data.groupby([\"Demographics Question\", \"Demographics Response\", \"Question\"])[\"Value\"].agg([\"mean\"]).reset_index()\n",
        "filter = demographics_df[\"Demographics Question\"] == \"Residence\"\n",
        "demographics_df.where(filter, inplace=True)\n",
        "demographics_df = demographics_df.dropna()\n",
        "demographics_df.drop(\"Demographics Question\", inplace=True, axis=1)\n",
        "demographics_df.sort_values([\"Question\", \"Demographics Response\"])\n",
        "\n",
        "\n",
        "df = pd.DataFrame({\n",
        "    'Urban': (demographics_df.loc[demographics_df[\"Demographics Response\"] == \"Urban\"])[\"mean\"].tolist(),\n",
        "    'Rural': (demographics_df.loc[demographics_df[\"Demographics Response\"] == \"Rural\"])[\"mean\"].tolist(),\n",
        "    'Question': demographics_df[\"Question\"].unique()\n",
        "})\n",
        "\n",
        "ax = df.plot(x=\"Question\", rot=360,colormap='Set3',fontsize = 11, kind=\"barh\")\n",
        "ax.set_xlabel(\"Mean\")\n",
        "print(df)"
      ],
      "metadata": {
        "colab": {
          "base_uri": "https://localhost:8080/",
          "height": 401
        },
        "id": "e7Ai_SoII9a5",
        "outputId": "0744972b-1bfb-4f11-a6b7-af6f7f3aeaad"
      },
      "execution_count": 14,
      "outputs": [
        {
          "output_type": "stream",
          "name": "stdout",
          "text": [
            "       Urban      Rural                                 Question\n",
            "0  28.313281  37.867188     ... for at least one specific reason\n",
            "1  15.037903  22.682258               ... if she argues with him\n",
            "2   6.350806  11.540323                ... if she burns the food\n",
            "3  15.951562  23.970312  ... if she goes out without telling him\n",
            "4  19.711719  26.977344         ... if she neglects the children\n",
            "5   9.585714  16.230159  ... if she refuses to have sex with him\n"
          ]
        },
        {
          "output_type": "display_data",
          "data": {
            "text/plain": [
              "<Figure size 432x288 with 1 Axes>"
            ],
            "image/png": "[encoded data removed]"
          },
          "metadata": {
            "needs_background": "light"
          }
        }
      ]
    },
    {
      "cell_type": "code",
      "source": [
        "country_df = pd.read_csv('/content/wikipedia-iso-country-codes.csv')\n",
        "country_df.columns = [\"Country\", \"A2C\", \"A3C\", \"Num\",\"ISO\"]\n",
        "datac_df = violence_data.merge(country_df)\n",
        "df = datac_df.groupby([\"Country\", \"A3C\"])[\"Value\"].agg([\"median\", \"max\", \"min\", \"mean\"]).reset_index()\n",
        "df.columns = [\"Country\", \"A3C\", \"Median\", \"Max\", \"Min\", \"Mean\"]\n"
      ],
      "metadata": {
        "id": "LElnA8fFQxKg"
      },
      "execution_count": 15,
      "outputs": []
    },
    {
      "cell_type": "code",
      "source": [
        "def show_on_map(df, aggregate, title):\n",
        "    fig = go.Figure(data=go.Choropleth(\n",
        "        locations = df['A3C'],\n",
        "        z = df[aggregate],\n",
        "        text = df['Country'],\n",
        "        colorscale = 'sunsetdark',\n",
        "        autocolorscale=False,\n",
        "        reversescale=False,\n",
        "        marker_line_color='darkgray',\n",
        "        marker_line_width=0.5,\n",
        "        colorbar_tickprefix = '%',\n",
        "        colorbar_title = 'Violence %',\n",
        "    ))\n",
        "\n",
        "    fig.update_layout(\n",
        "        title_text=title,\n",
        "        geo=dict(\n",
        "            showframe=False,\n",
        "            showcoastlines=False,\n",
        "            projection_type='equirectangular'\n",
        "        ),\n",
        "        annotations = [dict(\n",
        "            x=0.55,\n",
        "            y=0.1,\n",
        "            xref='paper',\n",
        "            yref='paper',\n",
        "            text='Source: <a href=\"https://www.kaggle.com/andrewmvd/violence-against-women-and-girls\">\\\n",
        "                Violence against Women and Girls</a>',\n",
        "            showarrow = False\n",
        "        )]\n",
        "    )\n",
        "\n",
        "    fig.show()"
      ],
      "metadata": {
        "id": "mgshnwm0AxJa"
      },
      "execution_count": 16,
      "outputs": []
    },
    {
      "cell_type": "code",
      "source": [
        "show_on_map(df, \"Mean\", \"Violence against Women and Girls - Country mean level of violence[%]\")\n",
        "print(df)"
      ],
      "metadata": {
        "colab": {
          "base_uri": "https://localhost:8080/",
          "height": 785
        },
        "id": "PjaiUq2xCAxh",
        "outputId": "6178ba3b-7fc4-415f-9f7a-0c3d1bf3891d"
      },
      "execution_count": 17,
      "outputs": [
        {
          "output_type": "display_data",
          "data": {
            "text/html": [
              "<html>\n",
              "<head><meta charset=\"utf-8\" /></head>\n",
              "<body>\n",
              "    <div>            <script src=\"https://cdnjs.cloudflare.com/ajax/libs/mathjax/2.7.5/MathJax.js?config=TeX-AMS-MML_SVG\"></script><script type=\"text/javascript\">if (window.MathJax) {MathJax.Hub.Config({SVG: {font: \"STIX-Web\"}});}</script>                <script type=\"text/javascript\">window.PlotlyConfig = {MathJaxConfig: 'local'};</script>\n",
              "        <script src=\"https://cdn.plot.ly/plotly-2.8.3.min.js\"></script>                <div id=\"653caecd-80d6-40b1-9993-e44a1ca5b27d\" class=\"plotly-graph-div\" style=\"height:525px; width:100%;\"></div>            <script type=\"text/javascript\">                                    window.PLOTLYENV=window.PLOTLYENV || {};                                    if (document.getElementById(\"653caecd-80d6-40b1-9993-e44a1ca5b27d\")) {                    Plotly.newPlot(                        \"653caecd-80d6-40b1-9993-e44a1ca5b27d\",                        [{\"autocolorscale\":false,\"colorbar\":{\"tickprefix\":\"%\",\"title\":{\"text\":\"Violence %\"}},\"colorscale\":[[0.0,\"rgb(252, 222, 156)\"],[0.16666666666666666,\"rgb(250, 164, 118)\"],[0.3333333333333333,\"rgb(240, 116, 110)\"],[0.5,\"rgb(227, 79, 111)\"],[0.6666666666666666,\"rgb(220, 57, 119)\"],[0.8333333333333334,\"rgb(185, 37, 122)\"],[1.0,\"rgb(124, 29, 111)\"]],\"locations\":[\"AFG\",\"ALB\",\"AGO\",\"ARM\",\"AZE\",\"BGD\",\"BEN\",\"BOL\",\"BFA\",\"BDI\",\"KHM\",\"CMR\",\"TCD\",\"COL\",\"COM\",\"DOM\",\"EGY\",\"ERI\",\"ETH\",\"GAB\",\"GMB\",\"GHA\",\"GTM\",\"GIN\",\"GUY\",\"HTI\",\"HND\",\"IND\",\"IDN\",\"JOR\",\"KEN\",\"LSO\",\"LBR\",\"MDG\",\"MWI\",\"MDV\",\"MLI\",\"MAR\",\"MOZ\",\"MMR\",\"NAM\",\"NPL\",\"NIC\",\"NER\",\"NGA\",\"PAK\",\"PER\",\"PHL\",\"RWA\",\"STP\",\"SEN\",\"SLE\",\"ZAF\",\"TJK\",\"TZA\",\"TLS\",\"TGO\",\"TUR\",\"TKM\",\"UGA\",\"UKR\",\"YEM\",\"ZMB\",\"ZWE\"],\"marker\":{\"line\":{\"color\":\"darkgray\",\"width\":0.5}},\"reversescale\":false,\"text\":[\"Afghanistan\",\"Albania\",\"Angola\",\"Armenia\",\"Azerbaijan\",\"Bangladesh\",\"Benin\",\"Bolivia\",\"Burkina Faso\",\"Burundi\",\"Cambodia\",\"Cameroon\",\"Chad\",\"Colombia\",\"Comoros\",\"Dominican Republic\",\"Egypt\",\"Eritrea\",\"Ethiopia\",\"Gabon\",\"Gambia\",\"Ghana\",\"Guatemala\",\"Guinea\",\"Guyana\",\"Haiti\",\"Honduras\",\"India\",\"Indonesia\",\"Jordan\",\"Kenya\",\"Lesotho\",\"Liberia\",\"Madagascar\",\"Malawi\",\"Maldives\",\"Mali\",\"Morocco\",\"Mozambique\",\"Myanmar\",\"Namibia\",\"Nepal\",\"Nicaragua\",\"Niger\",\"Nigeria\",\"Pakistan\",\"Peru\",\"Philippines\",\"Rwanda\",\"Sao Tome and Principe\",\"Senegal\",\"Sierra Leone\",\"South Africa\",\"Tajikistan\",\"Tanzania\",\"Timor-Leste\",\"Togo\",\"Turkey\",\"Turkmenistan\",\"Uganda\",\"Ukraine\",\"Yemen\",\"Zambia\",\"Zimbabwe\"],\"z\":[42.68333333333334,5.417777777777778,13.202222222222222,9.553571428571429,32.66607142857143,14.71904761904762,13.845555555555555,7.707777777777778,20.393333333333334,27.692222222222224,19.46,22.74833333333333,42.43666666666667,2.351111111111111,16.01388888888889,1.5857142857142856,21.679761904761904,46.18666666666667,28.392222222222223,23.109444444444442,26.37388888888889,12.137777777777778,4.197222222222222,40.25611111111111,8.945555555555556,6.399444444444445,5.776111111111112,23.210555555555555,13.020238095238096,13.522962962962962,22.08888888888889,18.512222222222224,18.919444444444444,16.122777777777777,6.786111111111111,11.504166666666666,39.42,45.21333333333333,7.441111111111112,23.656666666666666,13.601111111111111,12.700555555555555,6.61888888888889,29.211111111111112,18.62333333333333,24.43511904761905,1.8144444444444445,5.0633333333333335,15.480555555555556,11.025862068965518,23.196666666666665,29.44111111111111,3.5948275862068964,44.30444444444444,29.567777777777778,46.209999999999994,13.533333333333333,6.964102564102565,36.19,24.840555555555557,3.6923076923076925,27.621111111111112,24.361666666666668,18.170555555555556],\"type\":\"choropleth\"}],                        {\"template\":{\"data\":{\"bar\":[{\"error_x\":{\"color\":\"#2a3f5f\"},\"error_y\":{\"color\":\"#2a3f5f\"},\"marker\":{\"line\":{\"color\":\"#E5ECF6\",\"width\":0.5},\"pattern\":{\"fillmode\":\"overlay\",\"size\":10,\"solidity\":0.2}},\"type\":\"bar\"}],\"barpolar\":[{\"marker\":{\"line\":{\"color\":\"#E5ECF6\",\"width\":0.5},\"pattern\":{\"fillmode\":\"overlay\",\"size\":10,\"solidity\":0.2}},\"type\":\"barpolar\"}],\"carpet\":[{\"aaxis\":{\"endlinecolor\":\"#2a3f5f\",\"gridcolor\":\"white\",\"linecolor\":\"white\",\"minorgridcolor\":\"white\",\"startlinecolor\":\"#2a3f5f\"},\"baxis\":{\"endlinecolor\":\"#2a3f5f\",\"gridcolor\":\"white\",\"linecolor\":\"white\",\"minorgridcolor\":\"white\",\"startlinecolor\":\"#2a3f5f\"},\"type\":\"carpet\"}],\"choropleth\":[{\"colorbar\":{\"outlinewidth\":0,\"ticks\":\"\"},\"type\":\"choropleth\"}],\"contour\":[{\"colorbar\":{\"outlinewidth\":0,\"ticks\":\"\"},\"colorscale\":[[0.0,\"#0d0887\"],[0.1111111111111111,\"#46039f\"],[0.2222222222222222,\"#7201a8\"],[0.3333333333333333,\"#9c179e\"],[0.4444444444444444,\"#bd3786\"],[0.5555555555555556,\"#d8576b\"],[0.6666666666666666,\"#ed7953\"],[0.7777777777777778,\"#fb9f3a\"],[0.8888888888888888,\"#fdca26\"],[1.0,\"#f0f921\"]],\"type\":\"contour\"}],\"contourcarpet\":[{\"colorbar\":{\"outlinewidth\":0,\"ticks\":\"\"},\"type\":\"contourcarpet\"}],\"heatmap\":[{\"colorbar\":{\"outlinewidth\":0,\"ticks\":\"\"},\"colorscale\":[[0.0,\"#0d0887\"],[0.1111111111111111,\"#46039f\"],[0.2222222222222222,\"#7201a8\"],[0.3333333333333333,\"#9c179e\"],[0.4444444444444444,\"#bd3786\"],[0.5555555555555556,\"#d8576b\"],[0.6666666666666666,\"#ed7953\"],[0.7777777777777778,\"#fb9f3a\"],[0.8888888888888888,\"#fdca26\"],[1.0,\"#f0f921\"]],\"type\":\"heatmap\"}],\"heatmapgl\":[{\"colorbar\":{\"outlinewidth\":0,\"ticks\":\"\"},\"colorscale\":[[0.0,\"#0d0887\"],[0.1111111111111111,\"#46039f\"],[0.2222222222222222,\"#7201a8\"],[0.3333333333333333,\"#9c179e\"],[0.4444444444444444,\"#bd3786\"],[0.5555555555555556,\"#d8576b\"],[0.6666666666666666,\"#ed7953\"],[0.7777777777777778,\"#fb9f3a\"],[0.8888888888888888,\"#fdca26\"],[1.0,\"#f0f921\"]],\"type\":\"heatmapgl\"}],\"histogram\":[{\"marker\":{\"pattern\":{\"fillmode\":\"overlay\",\"size\":10,\"solidity\":0.2}},\"type\":\"histogram\"}],\"histogram2d\":[{\"colorbar\":{\"outlinewidth\":0,\"ticks\":\"\"},\"colorscale\":[[0.0,\"#0d0887\"],[0.1111111111111111,\"#46039f\"],[0.2222222222222222,\"#7201a8\"],[0.3333333333333333,\"#9c179e\"],[0.4444444444444444,\"#bd3786\"],[0.5555555555555556,\"#d8576b\"],[0.6666666666666666,\"#ed7953\"],[0.7777777777777778,\"#fb9f3a\"],[0.8888888888888888,\"#fdca26\"],[1.0,\"#f0f921\"]],\"type\":\"histogram2d\"}],\"histogram2dcontour\":[{\"colorbar\":{\"outlinewidth\":0,\"ticks\":\"\"},\"colorscale\":[[0.0,\"#0d0887\"],[0.1111111111111111,\"#46039f\"],[0.2222222222222222,\"#7201a8\"],[0.3333333333333333,\"#9c179e\"],[0.4444444444444444,\"#bd3786\"],[0.5555555555555556,\"#d8576b\"],[0.6666666666666666,\"#ed7953\"],[0.7777777777777778,\"#fb9f3a\"],[0.8888888888888888,\"#fdca26\"],[1.0,\"#f0f921\"]],\"type\":\"histogram2dcontour\"}],\"mesh3d\":[{\"colorbar\":{\"outlinewidth\":0,\"ticks\":\"\"},\"type\":\"mesh3d\"}],\"parcoords\":[{\"line\":{\"colorbar\":{\"outlinewidth\":0,\"ticks\":\"\"}},\"type\":\"parcoords\"}],\"pie\":[{\"automargin\":true,\"type\":\"pie\"}],\"scatter\":[{\"marker\":{\"colorbar\":{\"outlinewidth\":0,\"ticks\":\"\"}},\"type\":\"scatter\"}],\"scatter3d\":[{\"line\":{\"colorbar\":{\"outlinewidth\":0,\"ticks\":\"\"}},\"marker\":{\"colorbar\":{\"outlinewidth\":0,\"ticks\":\"\"}},\"type\":\"scatter3d\"}],\"scattercarpet\":[{\"marker\":{\"colorbar\":{\"outlinewidth\":0,\"ticks\":\"\"}},\"type\":\"scattercarpet\"}],\"scattergeo\":[{\"marker\":{\"colorbar\":{\"outlinewidth\":0,\"ticks\":\"\"}},\"type\":\"scattergeo\"}],\"scattergl\":[{\"marker\":{\"colorbar\":{\"outlinewidth\":0,\"ticks\":\"\"}},\"type\":\"scattergl\"}],\"scattermapbox\":[{\"marker\":{\"colorbar\":{\"outlinewidth\":0,\"ticks\":\"\"}},\"type\":\"scattermapbox\"}],\"scatterpolar\":[{\"marker\":{\"colorbar\":{\"outlinewidth\":0,\"ticks\":\"\"}},\"type\":\"scatterpolar\"}],\"scatterpolargl\":[{\"marker\":{\"colorbar\":{\"outlinewidth\":0,\"ticks\":\"\"}},\"type\":\"scatterpolargl\"}],\"scatterternary\":[{\"marker\":{\"colorbar\":{\"outlinewidth\":0,\"ticks\":\"\"}},\"type\":\"scatterternary\"}],\"surface\":[{\"colorbar\":{\"outlinewidth\":0,\"ticks\":\"\"},\"colorscale\":[[0.0,\"#0d0887\"],[0.1111111111111111,\"#46039f\"],[0.2222222222222222,\"#7201a8\"],[0.3333333333333333,\"#9c179e\"],[0.4444444444444444,\"#bd3786\"],[0.5555555555555556,\"#d8576b\"],[0.6666666666666666,\"#ed7953\"],[0.7777777777777778,\"#fb9f3a\"],[0.8888888888888888,\"#fdca26\"],[1.0,\"#f0f921\"]],\"type\":\"surface\"}],\"table\":[{\"cells\":{\"fill\":{\"color\":\"#EBF0F8\"},\"line\":{\"color\":\"white\"}},\"header\":{\"fill\":{\"color\":\"#C8D4E3\"},\"line\":{\"color\":\"white\"}},\"type\":\"table\"}]},\"layout\":{\"annotationdefaults\":{\"arrowcolor\":\"#2a3f5f\",\"arrowhead\":0,\"arrowwidth\":1},\"autotypenumbers\":\"strict\",\"coloraxis\":{\"colorbar\":{\"outlinewidth\":0,\"ticks\":\"\"}},\"colorscale\":{\"diverging\":[[0,\"#8e0152\"],[0.1,\"#c51b7d\"],[0.2,\"#de77ae\"],[0.3,\"#f1b6da\"],[0.4,\"#fde0ef\"],[0.5,\"#f7f7f7\"],[0.6,\"#e6f5d0\"],[0.7,\"#b8e186\"],[0.8,\"#7fbc41\"],[0.9,\"#4d9221\"],[1,\"#276419\"]],\"sequential\":[[0.0,\"#0d0887\"],[0.1111111111111111,\"#46039f\"],[0.2222222222222222,\"#7201a8\"],[0.3333333333333333,\"#9c179e\"],[0.4444444444444444,\"#bd3786\"],[0.5555555555555556,\"#d8576b\"],[0.6666666666666666,\"#ed7953\"],[0.7777777777777778,\"#fb9f3a\"],[0.8888888888888888,\"#fdca26\"],[1.0,\"#f0f921\"]],\"sequentialminus\":[[0.0,\"#0d0887\"],[0.1111111111111111,\"#46039f\"],[0.2222222222222222,\"#7201a8\"],[0.3333333333333333,\"#9c179e\"],[0.4444444444444444,\"#bd3786\"],[0.5555555555555556,\"#d8576b\"],[0.6666666666666666,\"#ed7953\"],[0.7777777777777778,\"#fb9f3a\"],[0.8888888888888888,\"#fdca26\"],[1.0,\"#f0f921\"]]},\"colorway\":[\"#636efa\",\"#EF553B\",\"#00cc96\",\"#ab63fa\",\"#FFA15A\",\"#19d3f3\",\"#FF6692\",\"#B6E880\",\"#FF97FF\",\"#FECB52\"],\"font\":{\"color\":\"#2a3f5f\"},\"geo\":{\"bgcolor\":\"white\",\"lakecolor\":\"white\",\"landcolor\":\"#E5ECF6\",\"showlakes\":true,\"showland\":true,\"subunitcolor\":\"white\"},\"hoverlabel\":{\"align\":\"left\"},\"hovermode\":\"closest\",\"mapbox\":{\"style\":\"light\"},\"paper_bgcolor\":\"white\",\"plot_bgcolor\":\"#E5ECF6\",\"polar\":{\"angularaxis\":{\"gridcolor\":\"white\",\"linecolor\":\"white\",\"ticks\":\"\"},\"bgcolor\":\"#E5ECF6\",\"radialaxis\":{\"gridcolor\":\"white\",\"linecolor\":\"white\",\"ticks\":\"\"}},\"scene\":{\"xaxis\":{\"backgroundcolor\":\"#E5ECF6\",\"gridcolor\":\"white\",\"gridwidth\":2,\"linecolor\":\"white\",\"showbackground\":true,\"ticks\":\"\",\"zerolinecolor\":\"white\"},\"yaxis\":{\"backgroundcolor\":\"#E5ECF6\",\"gridcolor\":\"white\",\"gridwidth\":2,\"linecolor\":\"white\",\"showbackground\":true,\"ticks\":\"\",\"zerolinecolor\":\"white\"},\"zaxis\":{\"backgroundcolor\":\"#E5ECF6\",\"gridcolor\":\"white\",\"gridwidth\":2,\"linecolor\":\"white\",\"showbackground\":true,\"ticks\":\"\",\"zerolinecolor\":\"white\"}},\"shapedefaults\":{\"line\":{\"color\":\"#2a3f5f\"}},\"ternary\":{\"aaxis\":{\"gridcolor\":\"white\",\"linecolor\":\"white\",\"ticks\":\"\"},\"baxis\":{\"gridcolor\":\"white\",\"linecolor\":\"white\",\"ticks\":\"\"},\"bgcolor\":\"#E5ECF6\",\"caxis\":{\"gridcolor\":\"white\",\"linecolor\":\"white\",\"ticks\":\"\"}},\"title\":{\"x\":0.05},\"xaxis\":{\"automargin\":true,\"gridcolor\":\"white\",\"linecolor\":\"white\",\"ticks\":\"\",\"title\":{\"standoff\":15},\"zerolinecolor\":\"white\",\"zerolinewidth\":2},\"yaxis\":{\"automargin\":true,\"gridcolor\":\"white\",\"linecolor\":\"white\",\"ticks\":\"\",\"title\":{\"standoff\":15},\"zerolinecolor\":\"white\",\"zerolinewidth\":2}}},\"title\":{\"text\":\"Violence against Women and Girls - Country mean level of violence[%]\"},\"geo\":{\"projection\":{\"type\":\"equirectangular\"},\"showframe\":false,\"showcoastlines\":false},\"annotations\":[{\"showarrow\":false,\"text\":\"Source: <a href=\\\"https://www.kaggle.com/andrewmvd/violence-against-women-and-girls\\\">                Violence against Women and Girls</a>\",\"x\":0.55,\"xref\":\"paper\",\"y\":0.1,\"yref\":\"paper\"}]},                        {\"responsive\": true}                    ).then(function(){\n",
              "                            \n",
              "var gd = document.getElementById('653caecd-80d6-40b1-9993-e44a1ca5b27d');\n",
              "var x = new MutationObserver(function (mutations, observer) {{\n",
              "        var display = window.getComputedStyle(gd).display;\n",
              "        if (!display || display === 'none') {{\n",
              "            console.log([gd, 'removed!']);\n",
              "            Plotly.purge(gd);\n",
              "            observer.disconnect();\n",
              "        }}\n",
              "}});\n",
              "\n",
              "// Listen for the removal of the full notebook cells\n",
              "var notebookContainer = gd.closest('#notebook-container');\n",
              "if (notebookContainer) {{\n",
              "    x.observe(notebookContainer, {childList: true});\n",
              "}}\n",
              "\n",
              "// Listen for the clearing of the current output cell\n",
              "var outputEl = gd.closest('.output');\n",
              "if (outputEl) {{\n",
              "    x.observe(outputEl, {childList: true});\n",
              "}}\n",
              "\n",
              "                        })                };                            </script>        </div>\n",
              "</body>\n",
              "</html>"
            ]
          },
          "metadata": {}
        },
        {
          "output_type": "stream",
          "name": "stdout",
          "text": [
            "        Country  A3C  Median   Max  Min       Mean\n",
            "0   Afghanistan  AFG   44.50  86.9  4.5  42.683333\n",
            "1       Albania  ALB    3.75  29.7  0.0   5.417778\n",
            "2        Angola  AGO   11.80  37.4  0.6  13.202222\n",
            "3       Armenia  ARM    6.95  47.0  0.0   9.553571\n",
            "4    Azerbaijan  AZE   33.95  74.3  1.5  32.666071\n",
            "..          ...  ...     ...   ...  ...        ...\n",
            "59       Uganda  UGA   23.60  59.8  1.5  24.840556\n",
            "60      Ukraine  UKR    2.35  22.0  0.1   3.692308\n",
            "61        Yemen  YEM   28.20  61.6  1.3  27.621111\n",
            "62       Zambia  ZMB   23.90  63.7  0.7  24.361667\n",
            "63     Zimbabwe  ZWE   16.60  55.2  1.1  18.170556\n",
            "\n",
            "[64 rows x 6 columns]\n"
          ]
        }
      ]
    },
    {
      "cell_type": "code",
      "source": [
        "print(df)"
      ],
      "metadata": {
        "id": "uvTeBi23FW9Y",
        "colab": {
          "base_uri": "https://localhost:8080/"
        },
        "outputId": "47f69a62-7967-4cc5-d68b-45109dbabf52"
      },
      "execution_count": 18,
      "outputs": [
        {
          "output_type": "stream",
          "name": "stdout",
          "text": [
            "        Country  A3C  Median   Max  Min       Mean\n",
            "0   Afghanistan  AFG   44.50  86.9  4.5  42.683333\n",
            "1       Albania  ALB    3.75  29.7  0.0   5.417778\n",
            "2        Angola  AGO   11.80  37.4  0.6  13.202222\n",
            "3       Armenia  ARM    6.95  47.0  0.0   9.553571\n",
            "4    Azerbaijan  AZE   33.95  74.3  1.5  32.666071\n",
            "..          ...  ...     ...   ...  ...        ...\n",
            "59       Uganda  UGA   23.60  59.8  1.5  24.840556\n",
            "60      Ukraine  UKR    2.35  22.0  0.1   3.692308\n",
            "61        Yemen  YEM   28.20  61.6  1.3  27.621111\n",
            "62       Zambia  ZMB   23.90  63.7  0.7  24.361667\n",
            "63     Zimbabwe  ZWE   16.60  55.2  1.1  18.170556\n",
            "\n",
            "[64 rows x 6 columns]\n"
          ]
        }
      ]
    },
    {
      "cell_type": "code",
      "source": [
        "def show_on_map(df, aggregate, title):\n",
        "    fig = go.Figure(data=go.Choropleth(\n",
        "        locations = df['A3C'],\n",
        "        z = df[aggregate],\n",
        "        text = df['Country'],\n",
        "        colorscale = 'YlOrRd',\n",
        "        autocolorscale=False,\n",
        "        reversescale=False,\n",
        "        marker_line_color='darkgray',\n",
        "        marker_line_width=0.5,\n",
        "        colorbar_tickprefix = '%',\n",
        "        colorbar_title = 'Violence %',\n",
        "    ))\n",
        "\n",
        "    fig.update_layout(\n",
        "        title_text=title,\n",
        "        geo=dict(\n",
        "            showframe=False,\n",
        "            showcoastlines=False,\n",
        "            projection_type='equirectangular'\n",
        "        ),\n",
        "        annotations = [dict(\n",
        "            x=0.55,\n",
        "            y=0.1,\n",
        "            xref='paper',\n",
        "            yref='paper',\n",
        "            text='Source: <a href=\"https://www.kaggle.com/andrewmvd/violence-against-women-and-girls\">\\\n",
        "                Violence against Women and Girls</a>',\n",
        "            showarrow = False\n",
        "        )]\n",
        "    )\n",
        "\n",
        "    fig.show()\n",
        "\n",
        "filter_df = datac_df.loc[datac_df[\"Demographics Response\"]==\"No education\"]\n",
        "df = filter_df.groupby([\"Country\", \"A3C\"])[\"Value\"].agg([\"mean\"]).reset_index()\n",
        "df.columns = [\"Country\", \"A3C\", \"Mean\"]\n",
        "show_on_map(df, \"Mean\", \"Violence against Women with No education - Country Median level of violence [%]\")"
      ],
      "metadata": {
        "colab": {
          "base_uri": "https://localhost:8080/",
          "height": 542
        },
        "id": "qctNgZ84Nmz8",
        "outputId": "d2c6608a-852d-4469-af52-611d05213514"
      },
      "execution_count": 19,
      "outputs": [
        {
          "output_type": "display_data",
          "data": {
            "text/html": [
              "<html>\n",
              "<head><meta charset=\"utf-8\" /></head>\n",
              "<body>\n",
              "    <div>            <script src=\"https://cdnjs.cloudflare.com/ajax/libs/mathjax/2.7.5/MathJax.js?config=TeX-AMS-MML_SVG\"></script><script type=\"text/javascript\">if (window.MathJax) {MathJax.Hub.Config({SVG: {font: \"STIX-Web\"}});}</script>                <script type=\"text/javascript\">window.PlotlyConfig = {MathJaxConfig: 'local'};</script>\n",
              "        <script src=\"https://cdn.plot.ly/plotly-2.8.3.min.js\"></script>                <div id=\"f74eee78-b683-4790-b7e9-08d7e547f38a\" class=\"plotly-graph-div\" style=\"height:525px; width:100%;\"></div>            <script type=\"text/javascript\">                                    window.PLOTLYENV=window.PLOTLYENV || {};                                    if (document.getElementById(\"f74eee78-b683-4790-b7e9-08d7e547f38a\")) {                    Plotly.newPlot(                        \"f74eee78-b683-4790-b7e9-08d7e547f38a\",                        [{\"autocolorscale\":false,\"colorbar\":{\"tickprefix\":\"%\",\"title\":{\"text\":\"Violence %\"}},\"colorscale\":[[0.0,\"rgb(255,255,204)\"],[0.125,\"rgb(255,237,160)\"],[0.25,\"rgb(254,217,118)\"],[0.375,\"rgb(254,178,76)\"],[0.5,\"rgb(253,141,60)\"],[0.625,\"rgb(252,78,42)\"],[0.75,\"rgb(227,26,28)\"],[0.875,\"rgb(189,0,38)\"],[1.0,\"rgb(128,0,38)\"]],\"locations\":[\"AFG\",\"ALB\",\"AGO\",\"ARM\",\"AZE\",\"BGD\",\"BEN\",\"BOL\",\"BFA\",\"BDI\",\"KHM\",\"CMR\",\"TCD\",\"COL\",\"COM\",\"DOM\",\"EGY\",\"ERI\",\"ETH\",\"GAB\",\"GMB\",\"GHA\",\"GTM\",\"GIN\",\"GUY\",\"HTI\",\"HND\",\"IND\",\"IDN\",\"JOR\",\"KEN\",\"LSO\",\"LBR\",\"MDG\",\"MWI\",\"MDV\",\"MLI\",\"MAR\",\"MOZ\",\"MMR\",\"NAM\",\"NPL\",\"NIC\",\"NER\",\"NGA\",\"PAK\",\"PER\",\"PHL\",\"RWA\",\"STP\",\"SEN\",\"SLE\",\"ZAF\",\"TJK\",\"TZA\",\"TLS\",\"TGO\",\"TUR\",\"TKM\",\"UGA\",\"UKR\",\"YEM\",\"ZMB\",\"ZWE\"],\"marker\":{\"line\":{\"color\":\"darkgray\",\"width\":0.5}},\"reversescale\":false,\"text\":[\"Afghanistan\",\"Albania\",\"Angola\",\"Armenia\",\"Azerbaijan\",\"Bangladesh\",\"Benin\",\"Bolivia\",\"Burkina Faso\",\"Burundi\",\"Cambodia\",\"Cameroon\",\"Chad\",\"Colombia\",\"Comoros\",\"Dominican Republic\",\"Egypt\",\"Eritrea\",\"Ethiopia\",\"Gabon\",\"Gambia\",\"Ghana\",\"Guatemala\",\"Guinea\",\"Guyana\",\"Haiti\",\"Honduras\",\"India\",\"Indonesia\",\"Jordan\",\"Kenya\",\"Lesotho\",\"Liberia\",\"Madagascar\",\"Malawi\",\"Maldives\",\"Mali\",\"Morocco\",\"Mozambique\",\"Myanmar\",\"Namibia\",\"Nepal\",\"Nicaragua\",\"Niger\",\"Nigeria\",\"Pakistan\",\"Peru\",\"Philippines\",\"Rwanda\",\"Sao Tome and Principe\",\"Senegal\",\"Sierra Leone\",\"South Africa\",\"Tajikistan\",\"Tanzania\",\"Timor-Leste\",\"Togo\",\"Turkey\",\"Turkmenistan\",\"Uganda\",\"Ukraine\",\"Yemen\",\"Zambia\",\"Zimbabwe\"],\"z\":[47.40833333333333,15.791666666666666,19.599999999999998,null,55.51666666666667,18.133333333333333,19.325,12.083333333333334,25.675,31.958333333333332,26.28333333333333,27.383333333333336,42.141666666666666,5.9750000000000005,17.7,3.6666666666666665,33.9,56.9,38.55833333333333,28.96666666666667,31.633333333333336,22.474999999999998,6.25,47.64166666666667,12.15,8.25,10.483333333333333,28.358333333333334,12.833333333333334,21.07,40.925000000000004,27.21666666666667,22.025000000000002,16.675,7.3,8.9875,44.975,62.11666666666667,10.325,23.825,18.76666666666667,15.791666666666666,13.0,31.575,23.3,35.583333333333336,3.1333333333333333,8.15,19.25,13.658333333333333,33.449999999999996,35.94166666666667,4.416666666666667,54.51666666666667,35.93333333333333,46.93333333333334,20.816666666666666,19.25,46.38333333333333,27.575000000000003,null,37.25,28.166666666666668,29.724999999999998],\"type\":\"choropleth\"}],                        {\"template\":{\"data\":{\"bar\":[{\"error_x\":{\"color\":\"#2a3f5f\"},\"error_y\":{\"color\":\"#2a3f5f\"},\"marker\":{\"line\":{\"color\":\"#E5ECF6\",\"width\":0.5},\"pattern\":{\"fillmode\":\"overlay\",\"size\":10,\"solidity\":0.2}},\"type\":\"bar\"}],\"barpolar\":[{\"marker\":{\"line\":{\"color\":\"#E5ECF6\",\"width\":0.5},\"pattern\":{\"fillmode\":\"overlay\",\"size\":10,\"solidity\":0.2}},\"type\":\"barpolar\"}],\"carpet\":[{\"aaxis\":{\"endlinecolor\":\"#2a3f5f\",\"gridcolor\":\"white\",\"linecolor\":\"white\",\"minorgridcolor\":\"white\",\"startlinecolor\":\"#2a3f5f\"},\"baxis\":{\"endlinecolor\":\"#2a3f5f\",\"gridcolor\":\"white\",\"linecolor\":\"white\",\"minorgridcolor\":\"white\",\"startlinecolor\":\"#2a3f5f\"},\"type\":\"carpet\"}],\"choropleth\":[{\"colorbar\":{\"outlinewidth\":0,\"ticks\":\"\"},\"type\":\"choropleth\"}],\"contour\":[{\"colorbar\":{\"outlinewidth\":0,\"ticks\":\"\"},\"colorscale\":[[0.0,\"#0d0887\"],[0.1111111111111111,\"#46039f\"],[0.2222222222222222,\"#7201a8\"],[0.3333333333333333,\"#9c179e\"],[0.4444444444444444,\"#bd3786\"],[0.5555555555555556,\"#d8576b\"],[0.6666666666666666,\"#ed7953\"],[0.7777777777777778,\"#fb9f3a\"],[0.8888888888888888,\"#fdca26\"],[1.0,\"#f0f921\"]],\"type\":\"contour\"}],\"contourcarpet\":[{\"colorbar\":{\"outlinewidth\":0,\"ticks\":\"\"},\"type\":\"contourcarpet\"}],\"heatmap\":[{\"colorbar\":{\"outlinewidth\":0,\"ticks\":\"\"},\"colorscale\":[[0.0,\"#0d0887\"],[0.1111111111111111,\"#46039f\"],[0.2222222222222222,\"#7201a8\"],[0.3333333333333333,\"#9c179e\"],[0.4444444444444444,\"#bd3786\"],[0.5555555555555556,\"#d8576b\"],[0.6666666666666666,\"#ed7953\"],[0.7777777777777778,\"#fb9f3a\"],[0.8888888888888888,\"#fdca26\"],[1.0,\"#f0f921\"]],\"type\":\"heatmap\"}],\"heatmapgl\":[{\"colorbar\":{\"outlinewidth\":0,\"ticks\":\"\"},\"colorscale\":[[0.0,\"#0d0887\"],[0.1111111111111111,\"#46039f\"],[0.2222222222222222,\"#7201a8\"],[0.3333333333333333,\"#9c179e\"],[0.4444444444444444,\"#bd3786\"],[0.5555555555555556,\"#d8576b\"],[0.6666666666666666,\"#ed7953\"],[0.7777777777777778,\"#fb9f3a\"],[0.8888888888888888,\"#fdca26\"],[1.0,\"#f0f921\"]],\"type\":\"heatmapgl\"}],\"histogram\":[{\"marker\":{\"pattern\":{\"fillmode\":\"overlay\",\"size\":10,\"solidity\":0.2}},\"type\":\"histogram\"}],\"histogram2d\":[{\"colorbar\":{\"outlinewidth\":0,\"ticks\":\"\"},\"colorscale\":[[0.0,\"#0d0887\"],[0.1111111111111111,\"#46039f\"],[0.2222222222222222,\"#7201a8\"],[0.3333333333333333,\"#9c179e\"],[0.4444444444444444,\"#bd3786\"],[0.5555555555555556,\"#d8576b\"],[0.6666666666666666,\"#ed7953\"],[0.7777777777777778,\"#fb9f3a\"],[0.8888888888888888,\"#fdca26\"],[1.0,\"#f0f921\"]],\"type\":\"histogram2d\"}],\"histogram2dcontour\":[{\"colorbar\":{\"outlinewidth\":0,\"ticks\":\"\"},\"colorscale\":[[0.0,\"#0d0887\"],[0.1111111111111111,\"#46039f\"],[0.2222222222222222,\"#7201a8\"],[0.3333333333333333,\"#9c179e\"],[0.4444444444444444,\"#bd3786\"],[0.5555555555555556,\"#d8576b\"],[0.6666666666666666,\"#ed7953\"],[0.7777777777777778,\"#fb9f3a\"],[0.8888888888888888,\"#fdca26\"],[1.0,\"#f0f921\"]],\"type\":\"histogram2dcontour\"}],\"mesh3d\":[{\"colorbar\":{\"outlinewidth\":0,\"ticks\":\"\"},\"type\":\"mesh3d\"}],\"parcoords\":[{\"line\":{\"colorbar\":{\"outlinewidth\":0,\"ticks\":\"\"}},\"type\":\"parcoords\"}],\"pie\":[{\"automargin\":true,\"type\":\"pie\"}],\"scatter\":[{\"marker\":{\"colorbar\":{\"outlinewidth\":0,\"ticks\":\"\"}},\"type\":\"scatter\"}],\"scatter3d\":[{\"line\":{\"colorbar\":{\"outlinewidth\":0,\"ticks\":\"\"}},\"marker\":{\"colorbar\":{\"outlinewidth\":0,\"ticks\":\"\"}},\"type\":\"scatter3d\"}],\"scattercarpet\":[{\"marker\":{\"colorbar\":{\"outlinewidth\":0,\"ticks\":\"\"}},\"type\":\"scattercarpet\"}],\"scattergeo\":[{\"marker\":{\"colorbar\":{\"outlinewidth\":0,\"ticks\":\"\"}},\"type\":\"scattergeo\"}],\"scattergl\":[{\"marker\":{\"colorbar\":{\"outlinewidth\":0,\"ticks\":\"\"}},\"type\":\"scattergl\"}],\"scattermapbox\":[{\"marker\":{\"colorbar\":{\"outlinewidth\":0,\"ticks\":\"\"}},\"type\":\"scattermapbox\"}],\"scatterpolar\":[{\"marker\":{\"colorbar\":{\"outlinewidth\":0,\"ticks\":\"\"}},\"type\":\"scatterpolar\"}],\"scatterpolargl\":[{\"marker\":{\"colorbar\":{\"outlinewidth\":0,\"ticks\":\"\"}},\"type\":\"scatterpolargl\"}],\"scatterternary\":[{\"marker\":{\"colorbar\":{\"outlinewidth\":0,\"ticks\":\"\"}},\"type\":\"scatterternary\"}],\"surface\":[{\"colorbar\":{\"outlinewidth\":0,\"ticks\":\"\"},\"colorscale\":[[0.0,\"#0d0887\"],[0.1111111111111111,\"#46039f\"],[0.2222222222222222,\"#7201a8\"],[0.3333333333333333,\"#9c179e\"],[0.4444444444444444,\"#bd3786\"],[0.5555555555555556,\"#d8576b\"],[0.6666666666666666,\"#ed7953\"],[0.7777777777777778,\"#fb9f3a\"],[0.8888888888888888,\"#fdca26\"],[1.0,\"#f0f921\"]],\"type\":\"surface\"}],\"table\":[{\"cells\":{\"fill\":{\"color\":\"#EBF0F8\"},\"line\":{\"color\":\"white\"}},\"header\":{\"fill\":{\"color\":\"#C8D4E3\"},\"line\":{\"color\":\"white\"}},\"type\":\"table\"}]},\"layout\":{\"annotationdefaults\":{\"arrowcolor\":\"#2a3f5f\",\"arrowhead\":0,\"arrowwidth\":1},\"autotypenumbers\":\"strict\",\"coloraxis\":{\"colorbar\":{\"outlinewidth\":0,\"ticks\":\"\"}},\"colorscale\":{\"diverging\":[[0,\"#8e0152\"],[0.1,\"#c51b7d\"],[0.2,\"#de77ae\"],[0.3,\"#f1b6da\"],[0.4,\"#fde0ef\"],[0.5,\"#f7f7f7\"],[0.6,\"#e6f5d0\"],[0.7,\"#b8e186\"],[0.8,\"#7fbc41\"],[0.9,\"#4d9221\"],[1,\"#276419\"]],\"sequential\":[[0.0,\"#0d0887\"],[0.1111111111111111,\"#46039f\"],[0.2222222222222222,\"#7201a8\"],[0.3333333333333333,\"#9c179e\"],[0.4444444444444444,\"#bd3786\"],[0.5555555555555556,\"#d8576b\"],[0.6666666666666666,\"#ed7953\"],[0.7777777777777778,\"#fb9f3a\"],[0.8888888888888888,\"#fdca26\"],[1.0,\"#f0f921\"]],\"sequentialminus\":[[0.0,\"#0d0887\"],[0.1111111111111111,\"#46039f\"],[0.2222222222222222,\"#7201a8\"],[0.3333333333333333,\"#9c179e\"],[0.4444444444444444,\"#bd3786\"],[0.5555555555555556,\"#d8576b\"],[0.6666666666666666,\"#ed7953\"],[0.7777777777777778,\"#fb9f3a\"],[0.8888888888888888,\"#fdca26\"],[1.0,\"#f0f921\"]]},\"colorway\":[\"#636efa\",\"#EF553B\",\"#00cc96\",\"#ab63fa\",\"#FFA15A\",\"#19d3f3\",\"#FF6692\",\"#B6E880\",\"#FF97FF\",\"#FECB52\"],\"font\":{\"color\":\"#2a3f5f\"},\"geo\":{\"bgcolor\":\"white\",\"lakecolor\":\"white\",\"landcolor\":\"#E5ECF6\",\"showlakes\":true,\"showland\":true,\"subunitcolor\":\"white\"},\"hoverlabel\":{\"align\":\"left\"},\"hovermode\":\"closest\",\"mapbox\":{\"style\":\"light\"},\"paper_bgcolor\":\"white\",\"plot_bgcolor\":\"#E5ECF6\",\"polar\":{\"angularaxis\":{\"gridcolor\":\"white\",\"linecolor\":\"white\",\"ticks\":\"\"},\"bgcolor\":\"#E5ECF6\",\"radialaxis\":{\"gridcolor\":\"white\",\"linecolor\":\"white\",\"ticks\":\"\"}},\"scene\":{\"xaxis\":{\"backgroundcolor\":\"#E5ECF6\",\"gridcolor\":\"white\",\"gridwidth\":2,\"linecolor\":\"white\",\"showbackground\":true,\"ticks\":\"\",\"zerolinecolor\":\"white\"},\"yaxis\":{\"backgroundcolor\":\"#E5ECF6\",\"gridcolor\":\"white\",\"gridwidth\":2,\"linecolor\":\"white\",\"showbackground\":true,\"ticks\":\"\",\"zerolinecolor\":\"white\"},\"zaxis\":{\"backgroundcolor\":\"#E5ECF6\",\"gridcolor\":\"white\",\"gridwidth\":2,\"linecolor\":\"white\",\"showbackground\":true,\"ticks\":\"\",\"zerolinecolor\":\"white\"}},\"shapedefaults\":{\"line\":{\"color\":\"#2a3f5f\"}},\"ternary\":{\"aaxis\":{\"gridcolor\":\"white\",\"linecolor\":\"white\",\"ticks\":\"\"},\"baxis\":{\"gridcolor\":\"white\",\"linecolor\":\"white\",\"ticks\":\"\"},\"bgcolor\":\"#E5ECF6\",\"caxis\":{\"gridcolor\":\"white\",\"linecolor\":\"white\",\"ticks\":\"\"}},\"title\":{\"x\":0.05},\"xaxis\":{\"automargin\":true,\"gridcolor\":\"white\",\"linecolor\":\"white\",\"ticks\":\"\",\"title\":{\"standoff\":15},\"zerolinecolor\":\"white\",\"zerolinewidth\":2},\"yaxis\":{\"automargin\":true,\"gridcolor\":\"white\",\"linecolor\":\"white\",\"ticks\":\"\",\"title\":{\"standoff\":15},\"zerolinecolor\":\"white\",\"zerolinewidth\":2}}},\"title\":{\"text\":\"Violence against Women with No education - Country Median level of violence [%]\"},\"geo\":{\"projection\":{\"type\":\"equirectangular\"},\"showframe\":false,\"showcoastlines\":false},\"annotations\":[{\"showarrow\":false,\"text\":\"Source: <a href=\\\"https://www.kaggle.com/andrewmvd/violence-against-women-and-girls\\\">                Violence against Women and Girls</a>\",\"x\":0.55,\"xref\":\"paper\",\"y\":0.1,\"yref\":\"paper\"}]},                        {\"responsive\": true}                    ).then(function(){\n",
              "                            \n",
              "var gd = document.getElementById('f74eee78-b683-4790-b7e9-08d7e547f38a');\n",
              "var x = new MutationObserver(function (mutations, observer) {{\n",
              "        var display = window.getComputedStyle(gd).display;\n",
              "        if (!display || display === 'none') {{\n",
              "            console.log([gd, 'removed!']);\n",
              "            Plotly.purge(gd);\n",
              "            observer.disconnect();\n",
              "        }}\n",
              "}});\n",
              "\n",
              "// Listen for the removal of the full notebook cells\n",
              "var notebookContainer = gd.closest('#notebook-container');\n",
              "if (notebookContainer) {{\n",
              "    x.observe(notebookContainer, {childList: true});\n",
              "}}\n",
              "\n",
              "// Listen for the clearing of the current output cell\n",
              "var outputEl = gd.closest('.output');\n",
              "if (outputEl) {{\n",
              "    x.observe(outputEl, {childList: true});\n",
              "}}\n",
              "\n",
              "                        })                };                            </script>        </div>\n",
              "</body>\n",
              "</html>"
            ]
          },
          "metadata": {}
        }
      ]
    },
    {
      "cell_type": "code",
      "source": [
        "demographics_df = violence_data.groupby([\"Demographics Question\", \"Demographics Response\",\"Gender\"])[\"Value\"].agg([\"mean\"]).reset_index()\n",
        "filter = demographics_df[\"Demographics Question\"] == \"Marital status\"\n",
        "demographics_df.where(filter, inplace=True)\n",
        "demographics_df = demographics_df.dropna()\n",
        "demographics_df.drop(\"Demographics Question\", inplace=True, axis=1)\n",
        "demographics_df.sort_values([\"Gender\", \"Demographics Response\"])\n",
        "\n",
        "\n",
        "df = pd.DataFrame({\n",
        "    'Married or living together': (demographics_df.loc[demographics_df[\"Demographics Response\"] == \"Married or living together\"])[\"mean\"].tolist(),\n",
        "    'Never married': (demographics_df.loc[demographics_df[\"Demographics Response\"] == \"Never married\"])[\"mean\"].tolist(),\n",
        "    'Widowed, divorced, separated': (demographics_df.loc[demographics_df[\"Demographics Response\"] == \"Widowed, divorced, separated\"])[\"mean\"].tolist(),\n",
        "    #'Gender': demographics_df[\"Gender\"].unique()\n",
        "})\n",
        "#print(df)\n",
        "df_transpose = df.T\n",
        "df_transpose.plot(ylabel=\"Mean\",rot=90, fontsize = 12, colormap='plasma', kind='bar')\n",
        "plt.legend([\"Female\", \"Male\"]);\n",
        "print(df_transpose)"
      ],
      "metadata": {
        "colab": {
          "base_uri": "https://localhost:8080/",
          "height": 507
        },
        "id": "fc3iESQeN613",
        "outputId": "094d0531-5e5b-4ae3-c2e6-0a9d3315e09f"
      },
      "execution_count": 20,
      "outputs": [
        {
          "output_type": "stream",
          "name": "stdout",
          "text": [
            "                                      0          1\n",
            "Married or living together    24.869639  14.508163\n",
            "Never married                 19.872280  17.317231\n",
            "Widowed, divorced, separated  22.609880  18.311276\n"
          ]
        },
        {
          "output_type": "display_data",
          "data": {
            "text/plain": [
              "<Figure size 432x288 with 1 Axes>"
            ],
            "image/png": "[encoded data removed]"
          },
          "metadata": {
            "needs_background": "light"
          }
        }
      ]
    }
  ]
}